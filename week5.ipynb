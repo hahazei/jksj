{
 "cells": [
  {
   "cell_type": "code",
   "execution_count": 2,
   "id": "347f9640-9a93-4ee7-83cf-d571b7f0a135",
   "metadata": {},
   "outputs": [
    {
     "name": "stdout",
     "output_type": "stream",
     "text": [
      "\u001b[33mWARNING: Skipping /home/xuwei/jupyterlab/venv/lib/python3.11/site-packages/charset_normalizer-3.3.2.dist-info due to invalid metadata entry 'name'\u001b[0m\u001b[33m\n",
      "\u001b[0m\u001b[33mWARNING: Skipping /home/xuwei/jupyterlab/venv/lib/python3.11/site-packages/transformers-4.36.2.dist-info due to invalid metadata entry 'name'\u001b[0m\u001b[33m\n",
      "\u001b[0m\u001b[33mWARNING: Skipping /home/xuwei/jupyterlab/venv/lib/python3.11/site-packages/requests-2.31.0.dist-info due to invalid metadata entry 'name'\u001b[0m\u001b[33m\n",
      "\u001b[0m\u001b[33mWARNING: Skipping /home/xuwei/jupyterlab/venv/lib/python3.11/site-packages/urllib3-2.1.0.dist-info due to invalid metadata entry 'name'\u001b[0m\u001b[33m\n",
      "\u001b[0m\u001b[33mWARNING: Skipping /home/xuwei/jupyterlab/venv/lib/python3.11/site-packages/charset_normalizer-3.3.2.dist-info due to invalid metadata entry 'name'\u001b[0m\u001b[33m\n",
      "\u001b[0m\u001b[33mWARNING: Skipping /home/xuwei/jupyterlab/venv/lib/python3.11/site-packages/transformers-4.36.2.dist-info due to invalid metadata entry 'name'\u001b[0m\u001b[33m\n",
      "\u001b[0m\u001b[33mWARNING: Skipping /home/xuwei/jupyterlab/venv/lib/python3.11/site-packages/requests-2.31.0.dist-info due to invalid metadata entry 'name'\u001b[0m\u001b[33m\n",
      "\u001b[0m\u001b[33mWARNING: Skipping /home/xuwei/jupyterlab/venv/lib/python3.11/site-packages/urllib3-2.1.0.dist-info due to invalid metadata entry 'name'\u001b[0m\u001b[33m\n",
      "\u001b[0mLooking in indexes: https://mirrors.ustc.edu.cn/pypi/web/simple\n",
      "Collecting langchain_openai\n",
      "  Using cached https://mirrors.bfsu.edu.cn/pypi/web/packages/a2/86/05012e5276dde3004cfb0cb383f56983d3adcb5bc8ce13ebf21ce3ea3d26/langchain_openai-0.0.5-py3-none-any.whl (29 kB)\n",
      "Requirement already satisfied: langchain-core<0.2,>=0.1.16 in /home/xuwei/jupyterlab/venv/lib/python3.11/site-packages (from langchain_openai) (0.1.18)\n",
      "Requirement already satisfied: numpy<2,>=1 in /home/xuwei/jupyterlab/venv/lib/python3.11/site-packages (from langchain_openai) (1.26.3)\n",
      "Collecting openai<2.0.0,>=1.10.0 (from langchain_openai)\n",
      "  Using cached https://mirrors.bfsu.edu.cn/pypi/web/packages/37/34/f3c3d6bdc3eebf1b6a7c696dd6f934630af6cf5250cec099edf117cd3b53/openai-1.11.1-py3-none-any.whl (226 kB)\n",
      "Collecting tiktoken<0.6.0,>=0.5.2 (from langchain_openai)\n",
      "  Downloading https://mirrors.bfsu.edu.cn/pypi/web/packages/fb/a9/237dc2db35e6ec0fb7dd63e3d10ebe0377559203bd2a87e12a4adbfc8585/tiktoken-0.5.2-cp311-cp311-manylinux_2_17_x86_64.manylinux2014_x86_64.whl (2.0 MB)\n",
      "\u001b[2K     \u001b[90m━━━━━━━━━━━━━━━━━━━━━━━━━━━━━━━━━━━━━━━━\u001b[0m \u001b[32m2.0/2.0 MB\u001b[0m \u001b[31m10.4 MB/s\u001b[0m eta \u001b[36m0:00:00\u001b[0ma \u001b[36m0:00:01\u001b[0m\n",
      "\u001b[?25hRequirement already satisfied: PyYAML>=5.3 in /home/xuwei/jupyterlab/venv/lib/python3.11/site-packages (from langchain-core<0.2,>=0.1.16->langchain_openai) (6.0.1)\n",
      "Requirement already satisfied: anyio<5,>=3 in /home/xuwei/jupyterlab/venv/lib/python3.11/site-packages (from langchain-core<0.2,>=0.1.16->langchain_openai) (4.2.0)\n",
      "Requirement already satisfied: jsonpatch<2.0,>=1.33 in /home/xuwei/jupyterlab/venv/lib/python3.11/site-packages (from langchain-core<0.2,>=0.1.16->langchain_openai) (1.33)\n",
      "Requirement already satisfied: langsmith<0.1,>=0.0.83 in /home/xuwei/jupyterlab/venv/lib/python3.11/site-packages (from langchain-core<0.2,>=0.1.16->langchain_openai) (0.0.86)\n",
      "Requirement already satisfied: packaging<24.0,>=23.2 in /home/xuwei/jupyterlab/venv/lib/python3.11/site-packages (from langchain-core<0.2,>=0.1.16->langchain_openai) (23.2)\n",
      "Requirement already satisfied: pydantic<3,>=1 in /home/xuwei/jupyterlab/venv/lib/python3.11/site-packages (from langchain-core<0.2,>=0.1.16->langchain_openai) (1.10.13)\n",
      "Requirement already satisfied: requests<3,>=2 in /home/xuwei/jupyterlab/venv/lib/python3.11/site-packages (from langchain-core<0.2,>=0.1.16->langchain_openai) (2.27.1)\n",
      "Requirement already satisfied: tenacity<9.0.0,>=8.1.0 in /home/xuwei/jupyterlab/venv/lib/python3.11/site-packages (from langchain-core<0.2,>=0.1.16->langchain_openai) (8.2.3)\n",
      "Collecting distro<2,>=1.7.0 (from openai<2.0.0,>=1.10.0->langchain_openai)\n",
      "  Using cached https://mirrors.bfsu.edu.cn/pypi/web/packages/12/b3/231ffd4ab1fc9d679809f356cebee130ac7daa00d6d6f3206dd4fd137e9e/distro-1.9.0-py3-none-any.whl (20 kB)\n",
      "Collecting httpx<1,>=0.23.0 (from openai<2.0.0,>=1.10.0->langchain_openai)\n",
      "  Using cached https://mirrors.bfsu.edu.cn/pypi/web/packages/39/9b/4937d841aee9c2c8102d9a4eeb800c7dad25386caabb4a1bf5010df81a57/httpx-0.26.0-py3-none-any.whl (75 kB)\n",
      "Requirement already satisfied: sniffio in /home/xuwei/jupyterlab/venv/lib/python3.11/site-packages (from openai<2.0.0,>=1.10.0->langchain_openai) (1.3.0)\n",
      "Requirement already satisfied: tqdm>4 in /home/xuwei/jupyterlab/venv/lib/python3.11/site-packages (from openai<2.0.0,>=1.10.0->langchain_openai) (4.66.1)\n",
      "Requirement already satisfied: typing-extensions<5,>=4.7 in /home/xuwei/jupyterlab/venv/lib/python3.11/site-packages (from openai<2.0.0,>=1.10.0->langchain_openai) (4.9.0)\n",
      "Requirement already satisfied: regex>=2022.1.18 in /home/xuwei/jupyterlab/venv/lib/python3.11/site-packages (from tiktoken<0.6.0,>=0.5.2->langchain_openai) (2023.12.25)\n",
      "Requirement already satisfied: idna>=2.8 in /home/xuwei/jupyterlab/venv/lib/python3.11/site-packages (from anyio<5,>=3->langchain-core<0.2,>=0.1.16->langchain_openai) (3.6)\n",
      "Requirement already satisfied: certifi in /home/xuwei/jupyterlab/venv/lib/python3.11/site-packages (from httpx<1,>=0.23.0->openai<2.0.0,>=1.10.0->langchain_openai) (2023.11.17)\n",
      "Collecting httpcore==1.* (from httpx<1,>=0.23.0->openai<2.0.0,>=1.10.0->langchain_openai)\n",
      "  Using cached https://mirrors.bfsu.edu.cn/pypi/web/packages/56/ba/78b0a99c4da0ff8b0f59defa2f13ca4668189b134bd9840b6202a93d9a0f/httpcore-1.0.2-py3-none-any.whl (76 kB)\n",
      "Requirement already satisfied: h11<0.15,>=0.13 in /home/xuwei/jupyterlab/venv/lib/python3.11/site-packages (from httpcore==1.*->httpx<1,>=0.23.0->openai<2.0.0,>=1.10.0->langchain_openai) (0.14.0)\n",
      "Requirement already satisfied: jsonpointer>=1.9 in /home/xuwei/jupyterlab/venv/lib/python3.11/site-packages (from jsonpatch<2.0,>=1.33->langchain-core<0.2,>=0.1.16->langchain_openai) (2.4)\n",
      "Requirement already satisfied: urllib3<1.27,>=1.21.1 in /home/xuwei/jupyterlab/venv/lib/python3.11/site-packages (from requests<3,>=2->langchain-core<0.2,>=0.1.16->langchain_openai) (1.26.18)\n",
      "Requirement already satisfied: charset-normalizer~=2.0.0 in /home/xuwei/jupyterlab/venv/lib/python3.11/site-packages (from requests<3,>=2->langchain-core<0.2,>=0.1.16->langchain_openai) (2.0.12)\n",
      "\u001b[33mWARNING: Skipping /home/xuwei/jupyterlab/venv/lib/python3.11/site-packages/charset_normalizer-3.3.2.dist-info due to invalid metadata entry 'name'\u001b[0m\u001b[33m\n",
      "\u001b[0m\u001b[33mWARNING: Skipping /home/xuwei/jupyterlab/venv/lib/python3.11/site-packages/transformers-4.36.2.dist-info due to invalid metadata entry 'name'\u001b[0m\u001b[33m\n",
      "\u001b[0m\u001b[33mWARNING: Skipping /home/xuwei/jupyterlab/venv/lib/python3.11/site-packages/requests-2.31.0.dist-info due to invalid metadata entry 'name'\u001b[0m\u001b[33m\n",
      "\u001b[0m\u001b[33mWARNING: Skipping /home/xuwei/jupyterlab/venv/lib/python3.11/site-packages/urllib3-2.1.0.dist-info due to invalid metadata entry 'name'\u001b[0m\u001b[33m\n",
      "\u001b[0mInstalling collected packages: httpcore, distro, tiktoken, httpx, openai, langchain_openai\n",
      "\u001b[33mWARNING: Skipping /home/xuwei/jupyterlab/venv/lib/python3.11/site-packages/charset_normalizer-3.3.2.dist-info due to invalid metadata entry 'name'\u001b[0m\u001b[33m\n",
      "\u001b[0m\u001b[33mWARNING: Skipping /home/xuwei/jupyterlab/venv/lib/python3.11/site-packages/transformers-4.36.2.dist-info due to invalid metadata entry 'name'\u001b[0m\u001b[33m\n",
      "\u001b[0m\u001b[33mWARNING: Skipping /home/xuwei/jupyterlab/venv/lib/python3.11/site-packages/requests-2.31.0.dist-info due to invalid metadata entry 'name'\u001b[0m\u001b[33m\n",
      "\u001b[0m\u001b[33mWARNING: Skipping /home/xuwei/jupyterlab/venv/lib/python3.11/site-packages/urllib3-2.1.0.dist-info due to invalid metadata entry 'name'\u001b[0m\u001b[33m\n",
      "\u001b[0m\u001b[33mWARNING: Skipping /home/xuwei/jupyterlab/venv/lib/python3.11/site-packages/charset_normalizer-3.3.2.dist-info due to invalid metadata entry 'name'\u001b[0m\u001b[33m\n",
      "\u001b[0m\u001b[33mWARNING: Skipping /home/xuwei/jupyterlab/venv/lib/python3.11/site-packages/charset_normalizer-3.3.2.dist-info due to invalid metadata entry 'name'\u001b[0m\u001b[33m\n",
      "\u001b[0m\u001b[33mWARNING: Skipping /home/xuwei/jupyterlab/venv/lib/python3.11/site-packages/transformers-4.36.2.dist-info due to invalid metadata entry 'name'\u001b[0m\u001b[33m\n",
      "\u001b[0m\u001b[33mWARNING: Skipping /home/xuwei/jupyterlab/venv/lib/python3.11/site-packages/requests-2.31.0.dist-info due to invalid metadata entry 'name'\u001b[0m\u001b[33m\n",
      "\u001b[0m\u001b[33mWARNING: Skipping /home/xuwei/jupyterlab/venv/lib/python3.11/site-packages/charset_normalizer-3.3.2.dist-info due to invalid metadata entry 'name'\u001b[0m\u001b[33m\n",
      "\u001b[0m\u001b[33mWARNING: Skipping /home/xuwei/jupyterlab/venv/lib/python3.11/site-packages/transformers-4.36.2.dist-info due to invalid metadata entry 'name'\u001b[0m\u001b[33m\n",
      "\u001b[0m\u001b[33mWARNING: Skipping /home/xuwei/jupyterlab/venv/lib/python3.11/site-packages/requests-2.31.0.dist-info due to invalid metadata entry 'name'\u001b[0m\u001b[33m\n",
      "\u001b[0m\u001b[33mWARNING: Skipping /home/xuwei/jupyterlab/venv/lib/python3.11/site-packages/urllib3-2.1.0.dist-info due to invalid metadata entry 'name'\u001b[0m\u001b[33m\n",
      "\u001b[0m\u001b[33mWARNING: Skipping /home/xuwei/jupyterlab/venv/lib/python3.11/site-packages/charset_normalizer-3.3.2.dist-info due to invalid metadata entry 'name'\u001b[0m\u001b[33m\n",
      "\u001b[0m\u001b[33mWARNING: Skipping /home/xuwei/jupyterlab/venv/lib/python3.11/site-packages/transformers-4.36.2.dist-info due to invalid metadata entry 'name'\u001b[0m\u001b[33m\n",
      "\u001b[0m\u001b[33mWARNING: Skipping /home/xuwei/jupyterlab/venv/lib/python3.11/site-packages/requests-2.31.0.dist-info due to invalid metadata entry 'name'\u001b[0m\u001b[33m\n",
      "\u001b[0m\u001b[33mWARNING: Skipping /home/xuwei/jupyterlab/venv/lib/python3.11/site-packages/urllib3-2.1.0.dist-info due to invalid metadata entry 'name'\u001b[0m\u001b[33m\n",
      "\u001b[0m\u001b[33mWARNING: Skipping /home/xuwei/jupyterlab/venv/lib/python3.11/site-packages/charset_normalizer-3.3.2.dist-info due to invalid metadata entry 'name'\u001b[0m\u001b[33m\n",
      "\u001b[0m\u001b[33mWARNING: Skipping /home/xuwei/jupyterlab/venv/lib/python3.11/site-packages/transformers-4.36.2.dist-info due to invalid metadata entry 'name'\u001b[0m\u001b[33m\n",
      "\u001b[0m\u001b[33mWARNING: Skipping /home/xuwei/jupyterlab/venv/lib/python3.11/site-packages/requests-2.31.0.dist-info due to invalid metadata entry 'name'\u001b[0m\u001b[33m\n",
      "\u001b[0mSuccessfully installed distro-1.9.0 httpcore-1.0.2 httpx-0.26.0 langchain_openai-0.0.5 openai-1.11.1 tiktoken-0.5.2\n",
      "\u001b[33mWARNING: Skipping /home/xuwei/jupyterlab/venv/lib/python3.11/site-packages/charset_normalizer-3.3.2.dist-info due to invalid metadata entry 'name'\u001b[0m\u001b[33m\n",
      "\u001b[0m\u001b[33mWARNING: Skipping /home/xuwei/jupyterlab/venv/lib/python3.11/site-packages/transformers-4.36.2.dist-info due to invalid metadata entry 'name'\u001b[0m\u001b[33m\n",
      "\u001b[0m\u001b[33mWARNING: Skipping /home/xuwei/jupyterlab/venv/lib/python3.11/site-packages/requests-2.31.0.dist-info due to invalid metadata entry 'name'\u001b[0m\u001b[33m\n",
      "\u001b[0m\u001b[33mWARNING: Skipping /home/xuwei/jupyterlab/venv/lib/python3.11/site-packages/urllib3-2.1.0.dist-info due to invalid metadata entry 'name'\u001b[0m\u001b[33m\n",
      "\u001b[0m\u001b[33mWARNING: Skipping /home/xuwei/jupyterlab/venv/lib/python3.11/site-packages/charset_normalizer-3.3.2.dist-info due to invalid metadata entry 'name'\u001b[0m\u001b[33m\n",
      "\u001b[0m\u001b[33mWARNING: Skipping /home/xuwei/jupyterlab/venv/lib/python3.11/site-packages/transformers-4.36.2.dist-info due to invalid metadata entry 'name'\u001b[0m\u001b[33m\n",
      "\u001b[0m\u001b[33mWARNING: Skipping /home/xuwei/jupyterlab/venv/lib/python3.11/site-packages/requests-2.31.0.dist-info due to invalid metadata entry 'name'\u001b[0m\u001b[33m\n",
      "\u001b[0m\u001b[33mWARNING: Skipping /home/xuwei/jupyterlab/venv/lib/python3.11/site-packages/urllib3-2.1.0.dist-info due to invalid metadata entry 'name'\u001b[0m\u001b[33m\n",
      "\u001b[0m\u001b[33mWARNING: Skipping /home/xuwei/jupyterlab/venv/lib/python3.11/site-packages/charset_normalizer-3.3.2.dist-info due to invalid metadata entry 'name'\u001b[0m\u001b[33m\n",
      "\u001b[0m\u001b[33mWARNING: Skipping /home/xuwei/jupyterlab/venv/lib/python3.11/site-packages/transformers-4.36.2.dist-info due to invalid metadata entry 'name'\u001b[0m\u001b[33m\n",
      "\u001b[0m\u001b[33mWARNING: Skipping /home/xuwei/jupyterlab/venv/lib/python3.11/site-packages/requests-2.31.0.dist-info due to invalid metadata entry 'name'\u001b[0m\u001b[33m\n",
      "\u001b[0m\u001b[33mWARNING: Skipping /home/xuwei/jupyterlab/venv/lib/python3.11/site-packages/urllib3-2.1.0.dist-info due to invalid metadata entry 'name'\u001b[0m\u001b[33m\n",
      "\u001b[0m\n",
      "\u001b[1m[\u001b[0m\u001b[34;49mnotice\u001b[0m\u001b[1;39;49m]\u001b[0m\u001b[39;49m A new release of pip is available: \u001b[0m\u001b[31;49m23.2.1\u001b[0m\u001b[39;49m -> \u001b[0m\u001b[32;49m24.0\u001b[0m\n",
      "\u001b[1m[\u001b[0m\u001b[34;49mnotice\u001b[0m\u001b[1;39;49m]\u001b[0m\u001b[39;49m To update, run: \u001b[0m\u001b[32;49mpip install --upgrade pip\u001b[0m\n"
     ]
    }
   ],
   "source": [
    "!pip install langchain_openai"
   ]
  },
  {
   "cell_type": "code",
   "execution_count": 3,
   "id": "11e62f38-c503-4b5c-aaec-f050ddaaa12a",
   "metadata": {},
   "outputs": [],
   "source": [
    "from langchain.chains import ConversationChain\n",
    "from langchain.chains.llm import LLMChain\n",
    "from langchain.chains.router import MultiPromptChain\n",
    "from langchain.chains.router.llm_router import LLMRouterChain, RouterOutputParser\n",
    "from langchain.prompts import PromptTemplate\n",
    "from langchain_openai import ChatOpenAI\n",
    "\n",
    "# 文本摘要模版\n",
    "abstract_template = \"\"\"\n",
    "需要实现文本摘要功能，即输入一段文本，输出这段文本的简短摘要。\n",
    "\n",
    "用户输入文本内容为：\n",
    "{input}\n",
    "\"\"\"\n",
    "\n",
    "# 翻译模版\n",
    "translation_template = \"\"\"\n",
    "你的功能是实现翻译功能，即输入一段文本和目标语言，输出这段文本的翻译。\n",
    "\n",
    "用户输入文本为：\n",
    "{input}\n",
    "\n",
    "目标语言：\n",
    "英文\n",
    "\"\"\"\n",
    "\n",
    "\n",
    "prompt_infos = [\n",
    "    {\n",
    "        \"name\": \"文本摘要\",\n",
    "        \"description\": \"输入一段文本，输出这段文本的摘要。\",\n",
    "        \"prompt_template\": abstract_template,\n",
    "    },\n",
    "    {\n",
    "        \"name\": \"翻译\",\n",
    "        \"description\": \"输入一段文本和目标语言，输出这段文本的翻译。\",\n",
    "        \"prompt_template\": translation_template,\n",
    "    },\n",
    "]\n",
    "\n",
    "#创建一个list储存对应的子链名称和描述\n",
    "destinations = [f\"{p['name']}: {p['description']}\" for p in prompt_infos]\n",
    "\n",
    "\n",
    "#把描述连接成一个str\n",
    "destinations_str = \"\\n\".join(destinations)\n",
    "\n",
    "from langchain.chains.router.multi_prompt_prompt import MULTI_PROMPT_ROUTER_TEMPLATE\n",
    "\n",
    "router_template = MULTI_PROMPT_ROUTER_TEMPLATE.format(destinations=destinations_str)\n",
    "\n",
    "llm = ChatOpenAI(temperature=0, openai_api_key=\"sk-****\")\n",
    "router_prompt = PromptTemplate(\n",
    "    template=router_template,\n",
    "    input_variables=[\"input\"],\n",
    "    output_parser=RouterOutputParser(),\n",
    ")\n",
    "router_chain = LLMRouterChain.from_llm(llm, router_prompt)\n",
    "\n",
    "# 首先，创建一个候选链，包含所有的下游子链\n",
    "candadite_chains = {}\n",
    "\n",
    "# 遍历路由目录，生成各子链并放入候选链字典\n",
    "for p_info in prompt_infos:\n",
    "    name = p_info[\"name\"]\n",
    "    prompt_template = p_info[\"prompt_template\"]\n",
    "    prompt = PromptTemplate(template=prompt_template, input_variables=[\"input\"])\n",
    "    chain = LLMChain(llm=llm, prompt=prompt)\n",
    "    candadite_chains[name] = chain\n",
    "\n",
    "# 生成默认链\n",
    "default_chain = ConversationChain(llm=llm, output_key=\"text\")\n",
    "\n",
    "chain = MultiPromptChain(\n",
    "    router_chain=router_chain,\n",
    "    destination_chains=candadite_chains,\n",
    "    default_chain=default_chain,\n",
    "    verbose=True,\n",
    ")\n",
    "\n"
   ]
  },
  {
   "cell_type": "code",
   "execution_count": 4,
   "id": "525fa7e4-2a20-4b12-a31b-50ee2e5cfd92",
   "metadata": {},
   "outputs": [
    {
     "name": "stderr",
     "output_type": "stream",
     "text": [
      "/home/xuwei/jupyterlab/venv/lib/python3.11/site-packages/langchain_core/_api/deprecation.py:117: LangChainDeprecationWarning: The function `run` was deprecated in LangChain 0.1.0 and will be removed in 0.2.0. Use invoke instead.\n",
      "  warn_deprecated(\n",
      "/home/xuwei/jupyterlab/venv/lib/python3.11/site-packages/langchain/chains/llm.py:316: UserWarning: The predict_and_parse method is deprecated, instead pass an output parser directly to LLMChain.\n",
      "  warnings.warn(\n"
     ]
    },
    {
     "name": "stdout",
     "output_type": "stream",
     "text": [
      "\n",
      "\n",
      "\u001b[1m> Entering new MultiPromptChain chain...\u001b[0m\n",
      "翻译: {'input': '帮忙翻一下：过中国年，喝王老吉'}\n",
      "\u001b[1m> Finished chain.\u001b[0m\n",
      "Translation:\n",
      "Help translate: During Chinese New Year, drink Wanglaoji.\n"
     ]
    }
   ],
   "source": [
    "print(chain.run(\"帮忙翻一下：过中国年，喝王老吉\"))\n"
   ]
  },
  {
   "cell_type": "code",
   "execution_count": 5,
   "id": "db4ad6ac-406f-4394-be62-8a6e3826aaee",
   "metadata": {},
   "outputs": [
    {
     "name": "stdout",
     "output_type": "stream",
     "text": [
      "\n",
      "\n",
      "\u001b[1m> Entering new MultiPromptChain chain...\u001b[0m\n"
     ]
    },
    {
     "name": "stderr",
     "output_type": "stream",
     "text": [
      "/home/xuwei/jupyterlab/venv/lib/python3.11/site-packages/langchain/chains/llm.py:316: UserWarning: The predict_and_parse method is deprecated, instead pass an output parser directly to LLMChain.\n",
      "  warnings.warn(\n"
     ]
    },
    {
     "name": "stdout",
     "output_type": "stream",
     "text": [
      "文本摘要: {'input': 'OLTP 系统通常面向最终用户，这意味着系统可能会收到大量的请求。为了处理负载，应用程序在每个查询中通常只访问少量的记录。应用程序使用某种键来请求记录，存储引擎使用索引来查找所请求的键的数据。硬盘查找时间往往是这里的瓶颈。数据仓库和类似的分析系统会低调一些，因为它们主要由业务分析人员使用，而不是最终用户。它们的查询量要比 OLTP 系统少得多，但通常每个查询开销高昂，需要在短时间内扫描数百万条记录。硬盘带宽（而不是查找时间）往往是瓶颈，列式存储是针对这种工作负载的日益流行的解决方案。'}\n",
      "\u001b[1m> Finished chain.\u001b[0m\n",
      "文本摘要：OLTP系统处理大量请求，每次查询访问少量记录，使用索引查找数据。数据仓库查询少但开销大，需要扫描数百万记录，列式存储是解决方案。\n"
     ]
    }
   ],
   "source": [
    "print(chain.run(\"\"\"\n",
    "对以下内容总结：\n",
    "OLTP 系统通常面向最终用户，这意味着系统可能会收到大量的请求。为了处理负载，应用程序在每个查询中通常只访问少量的记录。应用程序使用某种键来请求记录，存储引擎使用索引来查找所请求的键的数据。硬盘查找时间往往是这里的瓶颈。\n",
    "数据仓库和类似的分析系统会低调一些，因为它们主要由业务分析人员使用，而不是最终用户。它们的查询量要比 OLTP 系统少得多，但通常每个查询开销高昂，需要在短时间内扫描数百万条记录。硬盘带宽（而不是查找时间）往往是瓶颈，列式存储是针对这种工作负载的日益流行的解决方案。\n",
    "\"\"\"))"
   ]
  }
 ],
 "metadata": {
  "kernelspec": {
   "display_name": "Python 3 (ipykernel)",
   "language": "python",
   "name": "python3"
  },
  "language_info": {
   "codemirror_mode": {
    "name": "ipython",
    "version": 3
   },
   "file_extension": ".py",
   "mimetype": "text/x-python",
   "name": "python",
   "nbconvert_exporter": "python",
   "pygments_lexer": "ipython3",
   "version": "3.11.5"
  }
 },
 "nbformat": 4,
 "nbformat_minor": 5
}
