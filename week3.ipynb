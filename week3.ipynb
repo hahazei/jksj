{
 "cells": [
  {
   "cell_type": "code",
   "execution_count": 1,
   "id": "9dc6518b4719f9fd",
   "metadata": {},
   "outputs": [
    {
     "name": "stderr",
     "output_type": "stream",
     "text": [
      "CUDA extension not installed.\n",
      "CUDA extension not installed.\n"
     ]
    },
    {
     "data": {
      "application/vnd.jupyter.widget-view+json": {
       "model_id": "e5be447561b04ca08864c590ab2192f3",
       "version_major": 2,
       "version_minor": 0
      },
      "text/plain": [
       "Loading checkpoint shards:   0%|          | 0/2 [00:00<?, ?it/s]"
      ]
     },
     "metadata": {},
     "output_type": "display_data"
    },
    {
     "data": {
      "application/vnd.jupyter.widget-view+json": {
       "model_id": "958e53c251cb453484ab83e614d1bfee",
       "version_major": 2,
       "version_minor": 0
      },
      "text/plain": [
       "Quantizing model.decoder.layers blocks :   0%|          | 0/32 [00:00<?, ?it/s]"
      ]
     },
     "metadata": {},
     "output_type": "display_data"
    },
    {
     "data": {
      "application/vnd.jupyter.widget-view+json": {
       "model_id": "",
       "version_major": 2,
       "version_minor": 0
      },
      "text/plain": [
       "Quantizing layers inside the block:   0%|          | 0/6 [00:00<?, ?it/s]"
      ]
     },
     "metadata": {},
     "output_type": "display_data"
    },
    {
     "data": {
      "application/vnd.jupyter.widget-view+json": {
       "model_id": "",
       "version_major": 2,
       "version_minor": 0
      },
      "text/plain": [
       "Quantizing layers inside the block:   0%|          | 0/6 [00:00<?, ?it/s]"
      ]
     },
     "metadata": {},
     "output_type": "display_data"
    },
    {
     "data": {
      "application/vnd.jupyter.widget-view+json": {
       "model_id": "",
       "version_major": 2,
       "version_minor": 0
      },
      "text/plain": [
       "Quantizing layers inside the block:   0%|          | 0/6 [00:00<?, ?it/s]"
      ]
     },
     "metadata": {},
     "output_type": "display_data"
    },
    {
     "data": {
      "application/vnd.jupyter.widget-view+json": {
       "model_id": "",
       "version_major": 2,
       "version_minor": 0
      },
      "text/plain": [
       "Quantizing layers inside the block:   0%|          | 0/6 [00:00<?, ?it/s]"
      ]
     },
     "metadata": {},
     "output_type": "display_data"
    },
    {
     "data": {
      "application/vnd.jupyter.widget-view+json": {
       "model_id": "",
       "version_major": 2,
       "version_minor": 0
      },
      "text/plain": [
       "Quantizing layers inside the block:   0%|          | 0/6 [00:00<?, ?it/s]"
      ]
     },
     "metadata": {},
     "output_type": "display_data"
    },
    {
     "data": {
      "application/vnd.jupyter.widget-view+json": {
       "model_id": "",
       "version_major": 2,
       "version_minor": 0
      },
      "text/plain": [
       "Quantizing layers inside the block:   0%|          | 0/6 [00:00<?, ?it/s]"
      ]
     },
     "metadata": {},
     "output_type": "display_data"
    },
    {
     "data": {
      "application/vnd.jupyter.widget-view+json": {
       "model_id": "",
       "version_major": 2,
       "version_minor": 0
      },
      "text/plain": [
       "Quantizing layers inside the block:   0%|          | 0/6 [00:00<?, ?it/s]"
      ]
     },
     "metadata": {},
     "output_type": "display_data"
    },
    {
     "data": {
      "application/vnd.jupyter.widget-view+json": {
       "model_id": "",
       "version_major": 2,
       "version_minor": 0
      },
      "text/plain": [
       "Quantizing layers inside the block:   0%|          | 0/6 [00:00<?, ?it/s]"
      ]
     },
     "metadata": {},
     "output_type": "display_data"
    },
    {
     "data": {
      "application/vnd.jupyter.widget-view+json": {
       "model_id": "",
       "version_major": 2,
       "version_minor": 0
      },
      "text/plain": [
       "Quantizing layers inside the block:   0%|          | 0/6 [00:00<?, ?it/s]"
      ]
     },
     "metadata": {},
     "output_type": "display_data"
    },
    {
     "data": {
      "application/vnd.jupyter.widget-view+json": {
       "model_id": "",
       "version_major": 2,
       "version_minor": 0
      },
      "text/plain": [
       "Quantizing layers inside the block:   0%|          | 0/6 [00:00<?, ?it/s]"
      ]
     },
     "metadata": {},
     "output_type": "display_data"
    },
    {
     "data": {
      "application/vnd.jupyter.widget-view+json": {
       "model_id": "",
       "version_major": 2,
       "version_minor": 0
      },
      "text/plain": [
       "Quantizing layers inside the block:   0%|          | 0/6 [00:00<?, ?it/s]"
      ]
     },
     "metadata": {},
     "output_type": "display_data"
    },
    {
     "data": {
      "application/vnd.jupyter.widget-view+json": {
       "model_id": "",
       "version_major": 2,
       "version_minor": 0
      },
      "text/plain": [
       "Quantizing layers inside the block:   0%|          | 0/6 [00:00<?, ?it/s]"
      ]
     },
     "metadata": {},
     "output_type": "display_data"
    },
    {
     "data": {
      "application/vnd.jupyter.widget-view+json": {
       "model_id": "",
       "version_major": 2,
       "version_minor": 0
      },
      "text/plain": [
       "Quantizing layers inside the block:   0%|          | 0/6 [00:00<?, ?it/s]"
      ]
     },
     "metadata": {},
     "output_type": "display_data"
    },
    {
     "data": {
      "application/vnd.jupyter.widget-view+json": {
       "model_id": "",
       "version_major": 2,
       "version_minor": 0
      },
      "text/plain": [
       "Quantizing layers inside the block:   0%|          | 0/6 [00:00<?, ?it/s]"
      ]
     },
     "metadata": {},
     "output_type": "display_data"
    },
    {
     "data": {
      "application/vnd.jupyter.widget-view+json": {
       "model_id": "",
       "version_major": 2,
       "version_minor": 0
      },
      "text/plain": [
       "Quantizing layers inside the block:   0%|          | 0/6 [00:00<?, ?it/s]"
      ]
     },
     "metadata": {},
     "output_type": "display_data"
    },
    {
     "data": {
      "application/vnd.jupyter.widget-view+json": {
       "model_id": "",
       "version_major": 2,
       "version_minor": 0
      },
      "text/plain": [
       "Quantizing layers inside the block:   0%|          | 0/6 [00:00<?, ?it/s]"
      ]
     },
     "metadata": {},
     "output_type": "display_data"
    },
    {
     "data": {
      "application/vnd.jupyter.widget-view+json": {
       "model_id": "",
       "version_major": 2,
       "version_minor": 0
      },
      "text/plain": [
       "Quantizing layers inside the block:   0%|          | 0/6 [00:00<?, ?it/s]"
      ]
     },
     "metadata": {},
     "output_type": "display_data"
    },
    {
     "data": {
      "application/vnd.jupyter.widget-view+json": {
       "model_id": "",
       "version_major": 2,
       "version_minor": 0
      },
      "text/plain": [
       "Quantizing layers inside the block:   0%|          | 0/6 [00:00<?, ?it/s]"
      ]
     },
     "metadata": {},
     "output_type": "display_data"
    },
    {
     "data": {
      "application/vnd.jupyter.widget-view+json": {
       "model_id": "",
       "version_major": 2,
       "version_minor": 0
      },
      "text/plain": [
       "Quantizing layers inside the block:   0%|          | 0/6 [00:00<?, ?it/s]"
      ]
     },
     "metadata": {},
     "output_type": "display_data"
    },
    {
     "data": {
      "application/vnd.jupyter.widget-view+json": {
       "model_id": "",
       "version_major": 2,
       "version_minor": 0
      },
      "text/plain": [
       "Quantizing layers inside the block:   0%|          | 0/6 [00:00<?, ?it/s]"
      ]
     },
     "metadata": {},
     "output_type": "display_data"
    },
    {
     "data": {
      "application/vnd.jupyter.widget-view+json": {
       "model_id": "",
       "version_major": 2,
       "version_minor": 0
      },
      "text/plain": [
       "Quantizing layers inside the block:   0%|          | 0/6 [00:00<?, ?it/s]"
      ]
     },
     "metadata": {},
     "output_type": "display_data"
    },
    {
     "data": {
      "application/vnd.jupyter.widget-view+json": {
       "model_id": "",
       "version_major": 2,
       "version_minor": 0
      },
      "text/plain": [
       "Quantizing layers inside the block:   0%|          | 0/6 [00:00<?, ?it/s]"
      ]
     },
     "metadata": {},
     "output_type": "display_data"
    },
    {
     "data": {
      "application/vnd.jupyter.widget-view+json": {
       "model_id": "",
       "version_major": 2,
       "version_minor": 0
      },
      "text/plain": [
       "Quantizing layers inside the block:   0%|          | 0/6 [00:00<?, ?it/s]"
      ]
     },
     "metadata": {},
     "output_type": "display_data"
    },
    {
     "data": {
      "application/vnd.jupyter.widget-view+json": {
       "model_id": "",
       "version_major": 2,
       "version_minor": 0
      },
      "text/plain": [
       "Quantizing layers inside the block:   0%|          | 0/6 [00:00<?, ?it/s]"
      ]
     },
     "metadata": {},
     "output_type": "display_data"
    },
    {
     "data": {
      "application/vnd.jupyter.widget-view+json": {
       "model_id": "",
       "version_major": 2,
       "version_minor": 0
      },
      "text/plain": [
       "Quantizing layers inside the block:   0%|          | 0/6 [00:00<?, ?it/s]"
      ]
     },
     "metadata": {},
     "output_type": "display_data"
    },
    {
     "data": {
      "application/vnd.jupyter.widget-view+json": {
       "model_id": "",
       "version_major": 2,
       "version_minor": 0
      },
      "text/plain": [
       "Quantizing layers inside the block:   0%|          | 0/6 [00:00<?, ?it/s]"
      ]
     },
     "metadata": {},
     "output_type": "display_data"
    },
    {
     "data": {
      "application/vnd.jupyter.widget-view+json": {
       "model_id": "",
       "version_major": 2,
       "version_minor": 0
      },
      "text/plain": [
       "Quantizing layers inside the block:   0%|          | 0/6 [00:00<?, ?it/s]"
      ]
     },
     "metadata": {},
     "output_type": "display_data"
    },
    {
     "data": {
      "application/vnd.jupyter.widget-view+json": {
       "model_id": "",
       "version_major": 2,
       "version_minor": 0
      },
      "text/plain": [
       "Quantizing layers inside the block:   0%|          | 0/6 [00:00<?, ?it/s]"
      ]
     },
     "metadata": {},
     "output_type": "display_data"
    },
    {
     "data": {
      "application/vnd.jupyter.widget-view+json": {
       "model_id": "",
       "version_major": 2,
       "version_minor": 0
      },
      "text/plain": [
       "Quantizing layers inside the block:   0%|          | 0/6 [00:00<?, ?it/s]"
      ]
     },
     "metadata": {},
     "output_type": "display_data"
    },
    {
     "data": {
      "application/vnd.jupyter.widget-view+json": {
       "model_id": "",
       "version_major": 2,
       "version_minor": 0
      },
      "text/plain": [
       "Quantizing layers inside the block:   0%|          | 0/6 [00:00<?, ?it/s]"
      ]
     },
     "metadata": {},
     "output_type": "display_data"
    },
    {
     "data": {
      "application/vnd.jupyter.widget-view+json": {
       "model_id": "",
       "version_major": 2,
       "version_minor": 0
      },
      "text/plain": [
       "Quantizing layers inside the block:   0%|          | 0/6 [00:00<?, ?it/s]"
      ]
     },
     "metadata": {},
     "output_type": "display_data"
    },
    {
     "data": {
      "application/vnd.jupyter.widget-view+json": {
       "model_id": "",
       "version_major": 2,
       "version_minor": 0
      },
      "text/plain": [
       "Quantizing layers inside the block:   0%|          | 0/6 [00:00<?, ?it/s]"
      ]
     },
     "metadata": {},
     "output_type": "display_data"
    },
    {
     "name": "stdout",
     "output_type": "stream",
     "text": [
      "Merry Christmas! I'm glad to see you're still around.\n",
      "I'm still around, just not as active as I used to be.\n"
     ]
    }
   ],
   "source": [
    "# !pip install auto-gptq\n",
    "# !pip install optimum\n",
    "from transformers import AutoModelForCausalLM, AutoTokenizer, GPTQConfig\n",
    "import torch\n",
    "\n",
    "model_id = \"facebook/opt-6.7b\"\n",
    "\n",
    "quantization_config = GPTQConfig(\n",
    "     bits=4, # 量化精度\n",
    "     group_size=256,\n",
    "     dataset=\"wikitext2\",\n",
    "     desc_act=False,\n",
    ")\n",
    "\n",
    "tokenizer = AutoTokenizer.from_pretrained(model_id)\n",
    "quant_model = AutoModelForCausalLM.from_pretrained(model_id, quantization_config=quantization_config, device_map='auto')\n",
    "\n",
    "# tokenizer = AutoTokenizer.from_pretrained(model_id)\n",
    "\n",
    "text = \"Merry Christmas! I'm glad to\"\n",
    "inputs = tokenizer(text, return_tensors=\"pt\").to(0)\n",
    "\n",
    "out = quant_model.generate(**inputs, max_new_tokens=64)\n",
    "print(tokenizer.decode(out[0], skip_special_tokens=True))"
   ]
  },
  {
   "cell_type": "code",
   "execution_count": 1,
   "id": "829b5311-bde7-4ad6-8f9a-48c3e6b619c0",
   "metadata": {
    "ExecuteTime": {
     "end_time": "2024-01-23T14:21:15.415319080Z",
     "start_time": "2024-01-23T14:21:15.195176353Z"
    }
   },
   "outputs": [
    {
     "name": "stdout",
     "output_type": "stream",
     "text": [
      "Tue Jan 23 22:39:40 2024       \n",
      "+-----------------------------------------------------------------------------+\n",
      "| NVIDIA-SMI 525.125.06   Driver Version: 525.125.06   CUDA Version: 12.0     |\n",
      "|-------------------------------+----------------------+----------------------+\n",
      "| GPU  Name        Persistence-M| Bus-Id        Disp.A | Volatile Uncorr. ECC |\n",
      "| Fan  Temp  Perf  Pwr:Usage/Cap|         Memory-Usage | GPU-Util  Compute M. |\n",
      "|                               |                      |               MIG M. |\n",
      "|===============================+======================+======================|\n",
      "|   0  Tesla V100-PCIE...  Off  | 00000000:00:0D.0 Off |                    0 |\n",
      "| N/A   34C    P0    35W / 250W |    466MiB / 32768MiB |      0%      Default |\n",
      "|                               |                      |                  N/A |\n",
      "+-------------------------------+----------------------+----------------------+\n",
      "                                                                               \n",
      "+-----------------------------------------------------------------------------+\n",
      "| Processes:                                                                  |\n",
      "|  GPU   GI   CI        PID   Type   Process name                  GPU Memory |\n",
      "|        ID   ID                                                   Usage      |\n",
      "|=============================================================================|\n",
      "|    0   N/A  N/A   1647943      C   ...upyterlab/venv/bin/python      462MiB |\n",
      "+-----------------------------------------------------------------------------+\n"
     ]
    }
   ],
   "source": [
    "!nvidia-smi"
   ]
  },
  {
   "cell_type": "code",
   "execution_count": 2,
   "id": "49645d75-babf-4c86-baa9-58c2b551739e",
   "metadata": {},
   "outputs": [
    {
     "data": {
      "application/vnd.jupyter.widget-view+json": {
       "model_id": "061c19227c5340df8b5e8231ca60b446",
       "version_major": 2,
       "version_minor": 0
      },
      "text/plain": [
       "Loading checkpoint shards:   0%|          | 0/2 [00:00<?, ?it/s]"
      ]
     },
     "metadata": {},
     "output_type": "display_data"
    },
    {
     "data": {
      "text/plain": [
       "[{'generated_text': 'The woman worked as a translator by day. But she was an assassin by night. Her name was'},\n",
       " {'generated_text': 'The woman worked as a caregiver for elderly residents, and it was her job to be there for'},\n",
       " {'generated_text': 'The woman worked as a host at the bar, investigators said. It was her job to answer the'}]"
      ]
     },
     "execution_count": 2,
     "metadata": {},
     "output_type": "execute_result"
    }
   ],
   "source": [
    "from transformers import pipeline\n",
    "\n",
    "model_path = \"facebook/opt-6.7b\"\n",
    "\n",
    "# 使用 GPU 加载原始的 opt-6.7b 模型\n",
    "generator = pipeline('text-generation',\n",
    "                     model=model_path,\n",
    "                     device=0,\n",
    "                     do_sample=True,\n",
    "                     num_return_sequences=3)\n",
    "\n",
    "generator(\"The woman worked as a\")"
   ]
  },
  {
   "cell_type": "code",
   "execution_count": 5,
   "id": "bf29efcf-64dd-44ed-802d-e54084c2c5dd",
   "metadata": {},
   "outputs": [
    {
     "name": "stderr",
     "output_type": "stream",
     "text": [
      "huggingface/tokenizers: The current process just got forked, after parallelism has already been used. Disabling parallelism to avoid deadlocks...\n",
      "To disable this warning, you can either:\n",
      "\t- Avoid using `tokenizers` before the fork if possible\n",
      "\t- Explicitly set the environment variable TOKENIZERS_PARALLELISM=(true | false)\n"
     ]
    },
    {
     "name": "stdout",
     "output_type": "stream",
     "text": [
      "transformers              4.36.2\n",
      "\n",
      "\u001b[1m[\u001b[0m\u001b[34;49mnotice\u001b[0m\u001b[1;39;49m]\u001b[0m\u001b[39;49m A new release of pip is available: \u001b[0m\u001b[31;49m23.2.1\u001b[0m\u001b[39;49m -> \u001b[0m\u001b[32;49m23.3.2\u001b[0m\n",
      "\u001b[1m[\u001b[0m\u001b[34;49mnotice\u001b[0m\u001b[1;39;49m]\u001b[0m\u001b[39;49m To update, run: \u001b[0m\u001b[32;49mpip install --upgrade pip\u001b[0m\n"
     ]
    },
    {
     "name": "stderr",
     "output_type": "stream",
     "text": [
      "huggingface/tokenizers: The current process just got forked, after parallelism has already been used. Disabling parallelism to avoid deadlocks...\n",
      "To disable this warning, you can either:\n",
      "\t- Avoid using `tokenizers` before the fork if possible\n",
      "\t- Explicitly set the environment variable TOKENIZERS_PARALLELISM=(true | false)\n"
     ]
    },
    {
     "name": "stdout",
     "output_type": "stream",
     "text": [
      "Looking in indexes: https://mirrors.ustc.edu.cn/pypi/web/simple\n",
      "Collecting autoawq\n",
      "  Downloading https://mirrors.bfsu.edu.cn/pypi/web/packages/98/39/8bc5a2212acd89e8c4a4ab6b65454367238dfe9b745333473ac903c1f55b/autoawq-0.1.8-cp311-cp311-manylinux2014_x86_64.whl (20.5 MB)\n",
      "\u001b[2K     \u001b[90m━━━━━━━━━━━━━━━━━━━━━━━━━━━━━━━━━━━━━━━━\u001b[0m \u001b[32m20.5/20.5 MB\u001b[0m \u001b[31m5.0 MB/s\u001b[0m eta \u001b[36m0:00:00\u001b[0m00:01\u001b[0m00:01\u001b[0mm\n",
      "\u001b[?25hRequirement already satisfied: torch>=2.0.1 in /home/xuwei/jupyterlab/venv/lib/python3.11/site-packages (from autoawq) (2.0.1)\n",
      "Requirement already satisfied: transformers>=4.35.0 in /home/xuwei/jupyterlab/venv/lib/python3.11/site-packages (from autoawq) (4.36.2)\n",
      "Requirement already satisfied: tokenizers>=0.12.1 in /home/xuwei/jupyterlab/venv/lib/python3.11/site-packages (from autoawq) (0.15.0)\n",
      "Requirement already satisfied: accelerate in /home/xuwei/jupyterlab/venv/lib/python3.11/site-packages (from autoawq) (0.26.1)\n",
      "Requirement already satisfied: sentencepiece in /home/xuwei/jupyterlab/venv/lib/python3.11/site-packages (from autoawq) (0.1.99)\n",
      "Collecting lm-eval (from autoawq)\n",
      "  Downloading https://mirrors.bfsu.edu.cn/pypi/web/packages/45/e0/05001c2e56e2f8f793189442176432ddb89a2f1f1ef00ea154d0bc00fe37/lm_eval-0.4.0.tar.gz (457 kB)\n",
      "\u001b[2K     \u001b[90m━━━━━━━━━━━━━━━━━━━━━━━━━━━━━━━━━━━━━━\u001b[0m \u001b[32m457.1/457.1 kB\u001b[0m \u001b[31m11.1 MB/s\u001b[0m eta \u001b[36m0:00:00\u001b[0m00:01\u001b[0m\n",
      "\u001b[?25h  Installing build dependencies ... \u001b[?25ldone\n",
      "\u001b[?25h  Getting requirements to build wheel ... \u001b[?25ldone\n",
      "\u001b[?25h  Preparing metadata (pyproject.toml) ... \u001b[?25ldone\n",
      "\u001b[?25hCollecting texttable (from autoawq)\n",
      "  Downloading https://mirrors.bfsu.edu.cn/pypi/web/packages/24/99/4772b8e00a136f3e01236de33b0efda31ee7077203ba5967fcc76da94d65/texttable-1.7.0-py2.py3-none-any.whl (10 kB)\n",
      "Collecting toml (from autoawq)\n",
      "  Using cached https://mirrors.bfsu.edu.cn/pypi/web/packages/44/6f/7120676b6d73228c96e17f1f794d8ab046fc910d781c8d151120c3f1569e/toml-0.10.2-py2.py3-none-any.whl (16 kB)\n",
      "Collecting attributedict (from autoawq)\n",
      "  Downloading https://mirrors.bfsu.edu.cn/pypi/web/packages/de/db/337b36e8d85a07293f5a792644fa972b53a52b13587f484c627009206697/attributedict-0.3.0-py3-none-any.whl (14 kB)\n",
      "Requirement already satisfied: protobuf in /home/xuwei/jupyterlab/venv/lib/python3.11/site-packages (from autoawq) (4.25.1)\n",
      "Collecting torchvision (from autoawq)\n",
      "  Downloading https://mirrors.bfsu.edu.cn/pypi/web/packages/6e/c8/cf445dcf86daf1aed298061ad14b8d335fa594596aeaa6b951231328ffd1/torchvision-0.16.2-cp311-cp311-manylinux1_x86_64.whl (6.8 MB)\n",
      "\u001b[2K     \u001b[90m━━━━━━━━━━━━━━━━━━━━━━━━━━━━━━━━━━━━━━━━\u001b[0m \u001b[32m6.8/6.8 MB\u001b[0m \u001b[31m15.7 MB/s\u001b[0m eta \u001b[36m0:00:00\u001b[0m00:01\u001b[0m00:01\u001b[0m\n",
      "\u001b[?25hCollecting tabulate (from autoawq)\n",
      "  Downloading https://mirrors.bfsu.edu.cn/pypi/web/packages/40/44/4a5f08c96eb108af5cb50b41f76142f0afa346dfa99d5296fe7202a11854/tabulate-0.9.0-py3-none-any.whl (35 kB)\n",
      "Requirement already satisfied: huggingface_hub<1.0,>=0.16.4 in /home/xuwei/jupyterlab/venv/lib/python3.11/site-packages (from tokenizers>=0.12.1->autoawq) (0.20.1)\n",
      "Requirement already satisfied: filelock in /home/xuwei/jupyterlab/venv/lib/python3.11/site-packages (from torch>=2.0.1->autoawq) (3.13.1)\n",
      "Requirement already satisfied: typing-extensions in /home/xuwei/jupyterlab/venv/lib/python3.11/site-packages (from torch>=2.0.1->autoawq) (4.9.0)\n",
      "Requirement already satisfied: sympy in /home/xuwei/jupyterlab/venv/lib/python3.11/site-packages (from torch>=2.0.1->autoawq) (1.12)\n",
      "Requirement already satisfied: networkx in /home/xuwei/jupyterlab/venv/lib/python3.11/site-packages (from torch>=2.0.1->autoawq) (3.2.1)\n",
      "Requirement already satisfied: jinja2 in /home/xuwei/jupyterlab/venv/lib/python3.11/site-packages (from torch>=2.0.1->autoawq) (3.1.2)\n",
      "Requirement already satisfied: nvidia-cuda-nvrtc-cu11==11.7.99 in /home/xuwei/jupyterlab/venv/lib/python3.11/site-packages (from torch>=2.0.1->autoawq) (11.7.99)\n",
      "Requirement already satisfied: nvidia-cuda-runtime-cu11==11.7.99 in /home/xuwei/jupyterlab/venv/lib/python3.11/site-packages (from torch>=2.0.1->autoawq) (11.7.99)\n",
      "Requirement already satisfied: nvidia-cuda-cupti-cu11==11.7.101 in /home/xuwei/jupyterlab/venv/lib/python3.11/site-packages (from torch>=2.0.1->autoawq) (11.7.101)\n",
      "Requirement already satisfied: nvidia-cudnn-cu11==8.5.0.96 in /home/xuwei/jupyterlab/venv/lib/python3.11/site-packages (from torch>=2.0.1->autoawq) (8.5.0.96)\n",
      "Requirement already satisfied: nvidia-cublas-cu11==11.10.3.66 in /home/xuwei/jupyterlab/venv/lib/python3.11/site-packages (from torch>=2.0.1->autoawq) (11.10.3.66)\n",
      "Requirement already satisfied: nvidia-cufft-cu11==10.9.0.58 in /home/xuwei/jupyterlab/venv/lib/python3.11/site-packages (from torch>=2.0.1->autoawq) (10.9.0.58)\n",
      "Requirement already satisfied: nvidia-curand-cu11==10.2.10.91 in /home/xuwei/jupyterlab/venv/lib/python3.11/site-packages (from torch>=2.0.1->autoawq) (10.2.10.91)\n",
      "Requirement already satisfied: nvidia-cusolver-cu11==11.4.0.1 in /home/xuwei/jupyterlab/venv/lib/python3.11/site-packages (from torch>=2.0.1->autoawq) (11.4.0.1)\n",
      "Requirement already satisfied: nvidia-cusparse-cu11==11.7.4.91 in /home/xuwei/jupyterlab/venv/lib/python3.11/site-packages (from torch>=2.0.1->autoawq) (11.7.4.91)\n",
      "Requirement already satisfied: nvidia-nccl-cu11==2.14.3 in /home/xuwei/jupyterlab/venv/lib/python3.11/site-packages (from torch>=2.0.1->autoawq) (2.14.3)\n",
      "Requirement already satisfied: nvidia-nvtx-cu11==11.7.91 in /home/xuwei/jupyterlab/venv/lib/python3.11/site-packages (from torch>=2.0.1->autoawq) (11.7.91)\n",
      "Requirement already satisfied: triton==2.0.0 in /home/xuwei/jupyterlab/venv/lib/python3.11/site-packages (from torch>=2.0.1->autoawq) (2.0.0)\n",
      "Requirement already satisfied: setuptools in /home/xuwei/jupyterlab/venv/lib/python3.11/site-packages (from nvidia-cublas-cu11==11.10.3.66->torch>=2.0.1->autoawq) (65.5.0)\n",
      "Requirement already satisfied: wheel in /home/xuwei/jupyterlab/venv/lib/python3.11/site-packages (from nvidia-cublas-cu11==11.10.3.66->torch>=2.0.1->autoawq) (0.42.0)\n",
      "Requirement already satisfied: cmake in /home/xuwei/jupyterlab/venv/lib/python3.11/site-packages (from triton==2.0.0->torch>=2.0.1->autoawq) (3.28.1)\n",
      "Requirement already satisfied: lit in /home/xuwei/jupyterlab/venv/lib/python3.11/site-packages (from triton==2.0.0->torch>=2.0.1->autoawq) (17.0.6)\n",
      "Requirement already satisfied: numpy>=1.17 in /home/xuwei/jupyterlab/venv/lib/python3.11/site-packages (from transformers>=4.35.0->autoawq) (1.26.3)\n",
      "Requirement already satisfied: packaging>=20.0 in /home/xuwei/jupyterlab/venv/lib/python3.11/site-packages (from transformers>=4.35.0->autoawq) (23.2)\n",
      "Requirement already satisfied: pyyaml>=5.1 in /home/xuwei/jupyterlab/venv/lib/python3.11/site-packages (from transformers>=4.35.0->autoawq) (6.0.1)\n",
      "Requirement already satisfied: regex!=2019.12.17 in /home/xuwei/jupyterlab/venv/lib/python3.11/site-packages (from transformers>=4.35.0->autoawq) (2023.12.25)\n",
      "Requirement already satisfied: requests in /home/xuwei/jupyterlab/venv/lib/python3.11/site-packages (from transformers>=4.35.0->autoawq) (2.31.0)\n",
      "Requirement already satisfied: safetensors>=0.3.1 in /home/xuwei/jupyterlab/venv/lib/python3.11/site-packages (from transformers>=4.35.0->autoawq) (0.4.1)\n",
      "Requirement already satisfied: tqdm>=4.27 in /home/xuwei/jupyterlab/venv/lib/python3.11/site-packages (from transformers>=4.35.0->autoawq) (4.66.1)\n",
      "Requirement already satisfied: psutil in /home/xuwei/jupyterlab/venv/lib/python3.11/site-packages (from accelerate->autoawq) (5.9.7)\n",
      "Collecting rootpath>=0.1.0 (from attributedict->autoawq)\n",
      "  Downloading https://mirrors.bfsu.edu.cn/pypi/web/packages/4f/f9/959835686c78b7a95d8d806a97fa0be020c2deccb96de2b60659744319b9/rootpath-0.1.1-py3-none-any.whl (15 kB)\n",
      "Collecting inspecta>=0.1.0 (from attributedict->autoawq)\n",
      "  Downloading https://mirrors.bfsu.edu.cn/pypi/web/packages/03/aa/5ad8e223fa564d474b465771710b8b7b23896b59651cf115f510bcfda3ee/inspecta-0.1.3-py3-none-any.whl (9.2 kB)\n",
      "Collecting colour-runner>=0.0.5 (from attributedict->autoawq)\n",
      "  Downloading https://mirrors.bfsu.edu.cn/pypi/web/packages/d4/82/ce3250026add1910739dcabc796571ad1d182cb47332716c8bb96ee5d624/colour_runner-0.1.1-py2.py3-none-any.whl (3.7 kB)\n",
      "Collecting deepdiff>=3.3.0 (from attributedict->autoawq)\n",
      "  Downloading https://mirrors.bfsu.edu.cn/pypi/web/packages/5a/8f/a9d39ec15f40e8169cb134317824ee4618b864b2e4b91a9b310d3ef94729/deepdiff-6.7.1-py3-none-any.whl (76 kB)\n",
      "\u001b[2K     \u001b[90m━━━━━━━━━━━━━━━━━━━━━━━━━━━━━━━━━━━━━━━━\u001b[0m \u001b[32m76.6/76.6 kB\u001b[0m \u001b[31m1.5 MB/s\u001b[0m eta \u001b[36m0:00:00\u001b[0mta \u001b[36m0:00:01\u001b[0m\n",
      "\u001b[?25hCollecting tox>=3.0.0 (from attributedict->autoawq)\n",
      "  Downloading https://mirrors.bfsu.edu.cn/pypi/web/packages/f0/52/38a555b5d86be75ae198d4fc722b6581aa735a91ee260a4398fd9a1b7bf6/tox-4.12.1-py3-none-any.whl (154 kB)\n",
      "\u001b[2K     \u001b[90m━━━━━━━━━━━━━━━━━━━━━━━━━━━━━━━━━━━━━━\u001b[0m \u001b[32m154.4/154.4 kB\u001b[0m \u001b[31m16.2 MB/s\u001b[0m eta \u001b[36m0:00:00\u001b[0m\n",
      "\u001b[?25hCollecting coverage>=4.5.2 (from attributedict->autoawq)\n",
      "  Downloading https://mirrors.bfsu.edu.cn/pypi/web/packages/3b/35/c5aa0de6a3c40f42b7702298de7b0a67c96bfe0c44ed9d0a953d069b23dc/coverage-7.4.0-cp311-cp311-manylinux_2_5_x86_64.manylinux1_x86_64.manylinux_2_17_x86_64.manylinux2014_x86_64.whl (237 kB)\n",
      "\u001b[2K     \u001b[90m━━━━━━━━━━━━━━━━━━━━━━━━━━━━━━━━━━━━━━━\u001b[0m \u001b[32m237.1/237.1 kB\u001b[0m \u001b[31m8.4 MB/s\u001b[0m eta \u001b[36m0:00:00\u001b[0m\n",
      "\u001b[?25hCollecting codecov>=2.0.15 (from attributedict->autoawq)\n",
      "  Downloading https://mirrors.bfsu.edu.cn/pypi/web/packages/af/02/18785edcdf6266cdd6c6dc7635f1cbeefd9a5b4c3bb8aff8bd681e9dd095/codecov-2.1.13-py2.py3-none-any.whl (16 kB)\n",
      "Requirement already satisfied: evaluate in /home/xuwei/jupyterlab/venv/lib/python3.11/site-packages (from lm-eval->autoawq) (0.4.1)\n",
      "Requirement already satisfied: datasets>=2.0.0 in /home/xuwei/jupyterlab/venv/lib/python3.11/site-packages (from lm-eval->autoawq) (2.16.1)\n",
      "Collecting jsonlines (from lm-eval->autoawq)\n",
      "  Downloading https://mirrors.bfsu.edu.cn/pypi/web/packages/f8/62/d9ba6323b9202dd2fe166beab8a86d29465c41a0288cbe229fac60c1ab8d/jsonlines-4.0.0-py3-none-any.whl (8.7 kB)\n",
      "Collecting numexpr (from lm-eval->autoawq)\n",
      "  Downloading https://mirrors.bfsu.edu.cn/pypi/web/packages/ae/6b/445c5a891cf3af130a24dc086fcd311efc5cf727ea6b5ba90c3e0c38b601/numexpr-2.8.8-cp311-cp311-manylinux_2_17_x86_64.manylinux2014_x86_64.whl (377 kB)\n",
      "\u001b[2K     \u001b[90m━━━━━━━━━━━━━━━━━━━━━━━━━━━━━━━━━━━━━━\u001b[0m \u001b[32m377.2/377.2 kB\u001b[0m \u001b[31m17.2 MB/s\u001b[0m eta \u001b[36m0:00:00\u001b[0m\n",
      "\u001b[?25hRequirement already satisfied: peft>=0.2.0 in /home/xuwei/jupyterlab/venv/lib/python3.11/site-packages (from lm-eval->autoawq) (0.7.1)\n",
      "Collecting pybind11>=2.6.2 (from lm-eval->autoawq)\n",
      "  Downloading https://mirrors.bfsu.edu.cn/pypi/web/packages/06/55/9f73c32dda93fa4f539fafa268f9504e83c489f460c380371d94296126cd/pybind11-2.11.1-py3-none-any.whl (227 kB)\n",
      "\u001b[2K     \u001b[90m━━━━━━━━━━━━━━━━━━━━━━━━━━━━━━━━━━━━━━━\u001b[0m \u001b[32m227.7/227.7 kB\u001b[0m \u001b[31m4.5 MB/s\u001b[0m eta \u001b[36m0:00:00\u001b[0ma \u001b[36m0:00:01\u001b[0m\n",
      "\u001b[?25hCollecting pytablewriter (from lm-eval->autoawq)\n",
      "  Downloading https://mirrors.bfsu.edu.cn/pypi/web/packages/06/74/b39b823ee7dba155b117634e62733a0dfdfe5aa100a553b435062cee2062/pytablewriter-1.2.0-py3-none-any.whl (111 kB)\n",
      "\u001b[2K     \u001b[90m━━━━━━━━━━━━━━━━━━━━━━━━━━━━━━━━━━━━━━\u001b[0m \u001b[32m111.1/111.1 kB\u001b[0m \u001b[31m21.8 MB/s\u001b[0m eta \u001b[36m0:00:00\u001b[0m\n",
      "\u001b[?25hCollecting rouge-score>=0.0.4 (from lm-eval->autoawq)\n",
      "  Downloading https://mirrors.bfsu.edu.cn/pypi/web/packages/e2/c5/9136736c37022a6ad27fea38f3111eb8f02fe75d067f9a985cc358653102/rouge_score-0.1.2.tar.gz (17 kB)\n",
      "  Preparing metadata (setup.py) ... \u001b[?25ldone\n",
      "\u001b[?25hCollecting sacrebleu>=1.5.0 (from lm-eval->autoawq)\n",
      "  Downloading https://mirrors.bfsu.edu.cn/pypi/web/packages/de/ea/025db0a39337b63d4728a900d262c39c3029b0fe76a9876ce6297b1aa6a0/sacrebleu-2.4.0-py3-none-any.whl (106 kB)\n",
      "\u001b[2K     \u001b[90m━━━━━━━━━━━━━━━━━━━━━━━━━━━━━━━━━━━━━━\u001b[0m \u001b[32m106.3/106.3 kB\u001b[0m \u001b[31m19.7 MB/s\u001b[0m eta \u001b[36m0:00:00\u001b[0m\n",
      "\u001b[?25hRequirement already satisfied: scikit-learn>=0.24.1 in /home/xuwei/jupyterlab/venv/lib/python3.11/site-packages (from lm-eval->autoawq) (1.3.2)\n",
      "Collecting sqlitedict (from lm-eval->autoawq)\n",
      "  Downloading https://mirrors.bfsu.edu.cn/pypi/web/packages/12/9a/7620d1e9dcb02839ed6d4b14064e609cdd7a8ae1e47289aa0456796dd9ca/sqlitedict-2.1.0.tar.gz (21 kB)\n",
      "  Preparing metadata (setup.py) ... \u001b[?25ldone\n",
      "\u001b[?25hCollecting tqdm-multiprocess (from lm-eval->autoawq)\n",
      "  Downloading https://mirrors.bfsu.edu.cn/pypi/web/packages/25/7e/0d889fc6c84e3df6b69aaafe893fc77f69b3d968ac9ce574d1c62c688050/tqdm_multiprocess-0.0.11-py3-none-any.whl (9.8 kB)\n",
      "Collecting zstandard (from lm-eval->autoawq)\n",
      "  Downloading https://mirrors.bfsu.edu.cn/pypi/web/packages/80/6a/f8a618f84aafb9c373a959e7e51ad34bda73f1d99cd856c05c8f0b78e87f/zstandard-0.22.0-cp311-cp311-manylinux_2_17_x86_64.manylinux2014_x86_64.whl (5.4 MB)\n",
      "\u001b[2K     \u001b[90m━━━━━━━━━━━━━━━━━━━━━━━━━━━━━━━━━━━━━━━━\u001b[0m \u001b[32m5.4/5.4 MB\u001b[0m \u001b[31m34.9 MB/s\u001b[0m eta \u001b[36m0:00:00\u001b[0m00:01\u001b[0m00:01\u001b[0m\n",
      "\u001b[?25hCollecting torch>=2.0.1 (from autoawq)\n",
      "  Using cached https://mirrors.bfsu.edu.cn/pypi/web/packages/da/6a/7fb9d82db4568834ff6d4df2fe3b143de4ed65a3f8f93e7daed703626cb6/torch-2.1.2-cp311-cp311-manylinux1_x86_64.whl (670.2 MB)\n",
      "Requirement already satisfied: pillow!=8.3.*,>=5.3.0 in /home/xuwei/jupyterlab/venv/lib/python3.11/site-packages (from torchvision->autoawq) (10.2.0)\n",
      "Requirement already satisfied: fsspec in /home/xuwei/jupyterlab/venv/lib/python3.11/site-packages (from torch>=2.0.1->autoawq) (2023.10.0)\n",
      "Requirement already satisfied: nvidia-cuda-nvrtc-cu12==12.1.105 in /home/xuwei/jupyterlab/venv/lib/python3.11/site-packages (from torch>=2.0.1->autoawq) (12.1.105)\n",
      "Requirement already satisfied: nvidia-cuda-runtime-cu12==12.1.105 in /home/xuwei/jupyterlab/venv/lib/python3.11/site-packages (from torch>=2.0.1->autoawq) (12.1.105)\n",
      "Requirement already satisfied: nvidia-cuda-cupti-cu12==12.1.105 in /home/xuwei/jupyterlab/venv/lib/python3.11/site-packages (from torch>=2.0.1->autoawq) (12.1.105)\n",
      "Requirement already satisfied: nvidia-cudnn-cu12==8.9.2.26 in /home/xuwei/jupyterlab/venv/lib/python3.11/site-packages (from torch>=2.0.1->autoawq) (8.9.2.26)\n",
      "Requirement already satisfied: nvidia-cublas-cu12==12.1.3.1 in /home/xuwei/jupyterlab/venv/lib/python3.11/site-packages (from torch>=2.0.1->autoawq) (12.1.3.1)\n",
      "Requirement already satisfied: nvidia-cufft-cu12==11.0.2.54 in /home/xuwei/jupyterlab/venv/lib/python3.11/site-packages (from torch>=2.0.1->autoawq) (11.0.2.54)\n",
      "Requirement already satisfied: nvidia-curand-cu12==10.3.2.106 in /home/xuwei/jupyterlab/venv/lib/python3.11/site-packages (from torch>=2.0.1->autoawq) (10.3.2.106)\n",
      "Requirement already satisfied: nvidia-cusolver-cu12==11.4.5.107 in /home/xuwei/jupyterlab/venv/lib/python3.11/site-packages (from torch>=2.0.1->autoawq) (11.4.5.107)\n",
      "Requirement already satisfied: nvidia-cusparse-cu12==12.1.0.106 in /home/xuwei/jupyterlab/venv/lib/python3.11/site-packages (from torch>=2.0.1->autoawq) (12.1.0.106)\n",
      "Requirement already satisfied: nvidia-nccl-cu12==2.18.1 in /home/xuwei/jupyterlab/venv/lib/python3.11/site-packages (from torch>=2.0.1->autoawq) (2.18.1)\n",
      "Requirement already satisfied: nvidia-nvtx-cu12==12.1.105 in /home/xuwei/jupyterlab/venv/lib/python3.11/site-packages (from torch>=2.0.1->autoawq) (12.1.105)\n",
      "Collecting triton==2.1.0 (from torch>=2.0.1->autoawq)\n",
      "  Using cached https://mirrors.bfsu.edu.cn/pypi/web/packages/5c/c1/54fffb2eb13d293d9a429fead3646752ea190de0229bcf3d591ba2481263/triton-2.1.0-0-cp311-cp311-manylinux2014_x86_64.manylinux_2_17_x86_64.whl (89.2 MB)\n",
      "Requirement already satisfied: nvidia-nvjitlink-cu12 in /home/xuwei/jupyterlab/venv/lib/python3.11/site-packages (from nvidia-cusolver-cu12==11.4.5.107->torch>=2.0.1->autoawq) (12.3.101)\n",
      "Collecting blessings (from colour-runner>=0.0.5->attributedict->autoawq)\n",
      "  Downloading https://mirrors.bfsu.edu.cn/pypi/web/packages/03/74/489f85a78247609c6b4f13733cbf3ba0d864b11aa565617b645d6fdf2a4a/blessings-1.7-py3-none-any.whl (18 kB)\n",
      "Requirement already satisfied: pygments in /home/xuwei/jupyterlab/venv/lib/python3.11/site-packages (from colour-runner>=0.0.5->attributedict->autoawq) (2.17.2)\n",
      "Requirement already satisfied: pyarrow>=8.0.0 in /home/xuwei/jupyterlab/venv/lib/python3.11/site-packages (from datasets>=2.0.0->lm-eval->autoawq) (14.0.2)\n",
      "Requirement already satisfied: pyarrow-hotfix in /home/xuwei/jupyterlab/venv/lib/python3.11/site-packages (from datasets>=2.0.0->lm-eval->autoawq) (0.6)\n",
      "Requirement already satisfied: dill<0.3.8,>=0.3.0 in /home/xuwei/jupyterlab/venv/lib/python3.11/site-packages (from datasets>=2.0.0->lm-eval->autoawq) (0.3.7)\n",
      "Requirement already satisfied: pandas in /home/xuwei/jupyterlab/venv/lib/python3.11/site-packages (from datasets>=2.0.0->lm-eval->autoawq) (2.1.4)\n",
      "Requirement already satisfied: xxhash in /home/xuwei/jupyterlab/venv/lib/python3.11/site-packages (from datasets>=2.0.0->lm-eval->autoawq) (3.4.1)\n",
      "Requirement already satisfied: multiprocess in /home/xuwei/jupyterlab/venv/lib/python3.11/site-packages (from datasets>=2.0.0->lm-eval->autoawq) (0.70.15)\n",
      "Requirement already satisfied: aiohttp in /home/xuwei/jupyterlab/venv/lib/python3.11/site-packages (from datasets>=2.0.0->lm-eval->autoawq) (3.9.1)\n",
      "Collecting ordered-set<4.2.0,>=4.0.2 (from deepdiff>=3.3.0->attributedict->autoawq)\n",
      "  Downloading https://mirrors.bfsu.edu.cn/pypi/web/packages/33/55/af02708f230eb77084a299d7b08175cff006dea4f2721074b92cdb0296c0/ordered_set-4.1.0-py3-none-any.whl (7.6 kB)\n",
      "Requirement already satisfied: responses<0.19 in /home/xuwei/jupyterlab/venv/lib/python3.11/site-packages (from evaluate->lm-eval->autoawq) (0.18.0)\n",
      "Requirement already satisfied: six>=1.11.0 in /home/xuwei/jupyterlab/venv/lib/python3.11/site-packages (from inspecta>=0.1.0->attributedict->autoawq) (1.16.0)\n",
      "Collecting termcolor>=1.1.0 (from inspecta>=0.1.0->attributedict->autoawq)\n",
      "  Using cached https://mirrors.bfsu.edu.cn/pypi/web/packages/d9/5f/8c716e47b3a50cbd7c146f45881e11d9414def768b7cd9c5e6650ec2a80a/termcolor-2.4.0-py3-none-any.whl (7.7 kB)\n",
      "Requirement already satisfied: charset-normalizer<4,>=2 in /home/xuwei/jupyterlab/venv/lib/python3.11/site-packages (from requests->transformers>=4.35.0->autoawq) (3.3.2)\n",
      "Requirement already satisfied: idna<4,>=2.5 in /home/xuwei/jupyterlab/venv/lib/python3.11/site-packages (from requests->transformers>=4.35.0->autoawq) (3.6)\n",
      "Requirement already satisfied: urllib3<3,>=1.21.1 in /home/xuwei/jupyterlab/venv/lib/python3.11/site-packages (from requests->transformers>=4.35.0->autoawq) (2.1.0)\n",
      "Requirement already satisfied: certifi>=2017.4.17 in /home/xuwei/jupyterlab/venv/lib/python3.11/site-packages (from requests->transformers>=4.35.0->autoawq) (2023.11.17)\n",
      "Requirement already satisfied: coloredlogs>=10.0 in /home/xuwei/jupyterlab/venv/lib/python3.11/site-packages (from rootpath>=0.1.0->attributedict->autoawq) (15.0.1)\n",
      "Collecting absl-py (from rouge-score>=0.0.4->lm-eval->autoawq)\n",
      "  Downloading https://mirrors.bfsu.edu.cn/pypi/web/packages/a2/ad/e0d3c824784ff121c03cc031f944bc7e139a8f1870ffd2845cc2dd76f6c4/absl_py-2.1.0-py3-none-any.whl (133 kB)\n",
      "\u001b[2K     \u001b[90m━━━━━━━━━━━━━━━━━━━━━━━━━━━━━━━━━━━━━━\u001b[0m \u001b[32m133.7/133.7 kB\u001b[0m \u001b[31m26.6 MB/s\u001b[0m eta \u001b[36m0:00:00\u001b[0m\n",
      "\u001b[?25hCollecting nltk (from rouge-score>=0.0.4->lm-eval->autoawq)\n",
      "  Downloading https://mirrors.bfsu.edu.cn/pypi/web/packages/a6/0a/0d20d2c0f16be91b9fa32a77b76c60f9baf6eba419e5ef5deca17af9c582/nltk-3.8.1-py3-none-any.whl (1.5 MB)\n",
      "\u001b[2K     \u001b[90m━━━━━━━━━━━━━━━━━━━━━━━━━━━━━━━━━━━━━━━━\u001b[0m \u001b[32m1.5/1.5 MB\u001b[0m \u001b[31m18.8 MB/s\u001b[0m eta \u001b[36m0:00:00\u001b[0m00:01\u001b[0m\n",
      "\u001b[?25hCollecting portalocker (from sacrebleu>=1.5.0->lm-eval->autoawq)\n",
      "  Downloading https://mirrors.bfsu.edu.cn/pypi/web/packages/17/9e/87671efcca80ba6203811540ed1f9c0462c1609d2281d7b7f53cef05da3d/portalocker-2.8.2-py3-none-any.whl (17 kB)\n",
      "Collecting colorama (from sacrebleu>=1.5.0->lm-eval->autoawq)\n",
      "  Using cached https://mirrors.bfsu.edu.cn/pypi/web/packages/d1/d6/3965ed04c63042e047cb6a3e6ed1a63a35087b6a609aa3a15ed8ac56c221/colorama-0.4.6-py2.py3-none-any.whl (25 kB)\n",
      "Collecting lxml (from sacrebleu>=1.5.0->lm-eval->autoawq)\n",
      "  Downloading https://mirrors.bfsu.edu.cn/pypi/web/packages/1f/09/df0101e6d7be06fca545c0f7417d03d69679ff280d892a406469086780a4/lxml-5.1.0-cp311-cp311-manylinux_2_17_x86_64.manylinux2014_x86_64.whl (8.1 MB)\n",
      "\u001b[2K     \u001b[90m━━━━━━━━━━━━━━━━━━━━━━━━━━━━━━━━━━━━━━━━\u001b[0m \u001b[32m8.1/8.1 MB\u001b[0m \u001b[31m14.6 MB/s\u001b[0m eta \u001b[36m0:00:00\u001b[0m00:01\u001b[0m00:01\u001b[0m\n",
      "\u001b[?25hRequirement already satisfied: scipy>=1.5.0 in /home/xuwei/jupyterlab/venv/lib/python3.11/site-packages (from scikit-learn>=0.24.1->lm-eval->autoawq) (1.11.4)\n",
      "Requirement already satisfied: joblib>=1.1.1 in /home/xuwei/jupyterlab/venv/lib/python3.11/site-packages (from scikit-learn>=0.24.1->lm-eval->autoawq) (1.3.2)\n",
      "Requirement already satisfied: threadpoolctl>=2.0.0 in /home/xuwei/jupyterlab/venv/lib/python3.11/site-packages (from scikit-learn>=0.24.1->lm-eval->autoawq) (3.2.0)\n",
      "Collecting cachetools>=5.3.2 (from tox>=3.0.0->attributedict->autoawq)\n",
      "  Using cached https://mirrors.bfsu.edu.cn/pypi/web/packages/a2/91/2d843adb9fbd911e0da45fbf6f18ca89d07a087c3daa23e955584f90ebf4/cachetools-5.3.2-py3-none-any.whl (9.3 kB)\n",
      "Collecting chardet>=5.2 (from tox>=3.0.0->attributedict->autoawq)\n",
      "  Downloading https://mirrors.bfsu.edu.cn/pypi/web/packages/38/6f/f5fbc992a329ee4e0f288c1fe0e2ad9485ed064cac731ed2fe47dcc38cbf/chardet-5.2.0-py3-none-any.whl (199 kB)\n",
      "\u001b[2K     \u001b[90m━━━━━━━━━━━━━━━━━━━━━━━━━━━━━━━━━━━━━━\u001b[0m \u001b[32m199.4/199.4 kB\u001b[0m \u001b[31m18.0 MB/s\u001b[0m eta \u001b[36m0:00:00\u001b[0m\n",
      "\u001b[?25hRequirement already satisfied: platformdirs>=4.1 in /home/xuwei/jupyterlab/venv/lib/python3.11/site-packages (from tox>=3.0.0->attributedict->autoawq) (4.1.0)\n",
      "Collecting pluggy>=1.3 (from tox>=3.0.0->attributedict->autoawq)\n",
      "  Downloading https://mirrors.bfsu.edu.cn/pypi/web/packages/a5/5b/0cc789b59e8cc1bf288b38111d002d8c5917123194d45b29dcdac64723cc/pluggy-1.4.0-py3-none-any.whl (20 kB)\n",
      "Collecting pyproject-api>=1.6.1 (from tox>=3.0.0->attributedict->autoawq)\n",
      "  Downloading https://mirrors.bfsu.edu.cn/pypi/web/packages/cf/b4/39eea50542e50e93876ebc09c4349a9c9eee9f6b9c9d30f88c7dc5433db8/pyproject_api-1.6.1-py3-none-any.whl (12 kB)\n",
      "Collecting virtualenv>=20.25 (from tox>=3.0.0->attributedict->autoawq)\n",
      "  Downloading https://mirrors.bfsu.edu.cn/pypi/web/packages/83/22/54b1180756d2d6194bcafb7425d437c3034c4bff92129c3e1e633079e2c4/virtualenv-20.25.0-py3-none-any.whl (3.8 MB)\n",
      "\u001b[2K     \u001b[90m━━━━━━━━━━━━━━━━━━━━━━━━━━━━━━━━━━━━━━━━\u001b[0m \u001b[32m3.8/3.8 MB\u001b[0m \u001b[31m50.0 MB/s\u001b[0m eta \u001b[36m0:00:00\u001b[0m00:01\u001b[0m00:01\u001b[0m\n",
      "\u001b[?25hRequirement already satisfied: MarkupSafe>=2.0 in /home/xuwei/jupyterlab/venv/lib/python3.11/site-packages (from jinja2->torch>=2.0.1->autoawq) (2.1.3)\n",
      "Requirement already satisfied: attrs>=19.2.0 in /home/xuwei/jupyterlab/venv/lib/python3.11/site-packages (from jsonlines->lm-eval->autoawq) (23.1.0)\n",
      "Collecting DataProperty<2,>=1.0.1 (from pytablewriter->lm-eval->autoawq)\n",
      "  Downloading https://mirrors.bfsu.edu.cn/pypi/web/packages/b1/3b/90ebd66ad57c588d6087e86e327436343e9cc60776a9445b79c6e80a022d/DataProperty-1.0.1-py3-none-any.whl (27 kB)\n",
      "Collecting mbstrdecoder<2,>=1.0.0 (from pytablewriter->lm-eval->autoawq)\n",
      "  Downloading https://mirrors.bfsu.edu.cn/pypi/web/packages/c2/0f/726229136022b154895138bb10ba35e8435c4143f614cb5ad4d4e3fc21ec/mbstrdecoder-1.1.3-py3-none-any.whl (7.8 kB)\n",
      "Collecting pathvalidate<4,>=2.3.0 (from pytablewriter->lm-eval->autoawq)\n",
      "  Downloading https://mirrors.bfsu.edu.cn/pypi/web/packages/0c/ab/673cce13ab635fd755d206b18c0a371ef6e28ddbe25fadba9ae6c59f22a5/pathvalidate-3.2.0-py3-none-any.whl (23 kB)\n",
      "Collecting tabledata<2,>=1.3.1 (from pytablewriter->lm-eval->autoawq)\n",
      "  Downloading https://mirrors.bfsu.edu.cn/pypi/web/packages/06/e2/96b10ebc00d20b55967200e3d95c2137d91f58af1af672627683431c9d5c/tabledata-1.3.3-py3-none-any.whl (11 kB)\n",
      "Collecting tcolorpy<1,>=0.0.5 (from pytablewriter->lm-eval->autoawq)\n",
      "  Downloading https://mirrors.bfsu.edu.cn/pypi/web/packages/34/d0/8a701df46bf546fd155da02934b0bb2ac6ad4186e29f4a3297e744ab259d/tcolorpy-0.1.4-py3-none-any.whl (7.9 kB)\n",
      "Collecting typepy[datetime]<2,>=1.3.2 (from pytablewriter->lm-eval->autoawq)\n",
      "  Downloading https://mirrors.bfsu.edu.cn/pypi/web/packages/f1/10/0d6dc654bb4e0eca017bbaf43a315b464c888576a68a2883cd4a74bd1b6b/typepy-1.3.2-py3-none-any.whl (31 kB)\n",
      "Requirement already satisfied: mpmath>=0.19 in /home/xuwei/jupyterlab/venv/lib/python3.11/site-packages (from sympy->torch>=2.0.1->autoawq) (1.3.0)\n",
      "Requirement already satisfied: humanfriendly>=9.1 in /home/xuwei/jupyterlab/venv/lib/python3.11/site-packages (from coloredlogs>=10.0->rootpath>=0.1.0->attributedict->autoawq) (10.0)\n",
      "Requirement already satisfied: multidict<7.0,>=4.5 in /home/xuwei/jupyterlab/venv/lib/python3.11/site-packages (from aiohttp->datasets>=2.0.0->lm-eval->autoawq) (6.0.4)\n",
      "Requirement already satisfied: yarl<2.0,>=1.0 in /home/xuwei/jupyterlab/venv/lib/python3.11/site-packages (from aiohttp->datasets>=2.0.0->lm-eval->autoawq) (1.9.4)\n",
      "Requirement already satisfied: frozenlist>=1.1.1 in /home/xuwei/jupyterlab/venv/lib/python3.11/site-packages (from aiohttp->datasets>=2.0.0->lm-eval->autoawq) (1.4.1)\n",
      "Requirement already satisfied: aiosignal>=1.1.2 in /home/xuwei/jupyterlab/venv/lib/python3.11/site-packages (from aiohttp->datasets>=2.0.0->lm-eval->autoawq) (1.3.1)\n",
      "Requirement already satisfied: python-dateutil<3.0.0,>=2.8.0 in /home/xuwei/jupyterlab/venv/lib/python3.11/site-packages (from typepy[datetime]<2,>=1.3.2->pytablewriter->lm-eval->autoawq) (2.8.2)\n",
      "Requirement already satisfied: pytz>=2018.9 in /home/xuwei/jupyterlab/venv/lib/python3.11/site-packages (from typepy[datetime]<2,>=1.3.2->pytablewriter->lm-eval->autoawq) (2023.3.post1)\n",
      "Collecting distlib<1,>=0.3.7 (from virtualenv>=20.25->tox>=3.0.0->attributedict->autoawq)\n",
      "  Downloading https://mirrors.bfsu.edu.cn/pypi/web/packages/8e/41/9307e4f5f9976bc8b7fea0b66367734e8faf3ec84bc0d412d8cfabbb66cd/distlib-0.3.8-py2.py3-none-any.whl (468 kB)\n",
      "\u001b[2K     \u001b[90m━━━━━━━━━━━━━━━━━━━━━━━━━━━━━━━━━━━━━━\u001b[0m \u001b[32m468.9/468.9 kB\u001b[0m \u001b[31m30.8 MB/s\u001b[0m eta \u001b[36m0:00:00\u001b[0m\n",
      "\u001b[?25hRequirement already satisfied: click in /home/xuwei/jupyterlab/venv/lib/python3.11/site-packages (from nltk->rouge-score>=0.0.4->lm-eval->autoawq) (8.1.7)\n",
      "Requirement already satisfied: tzdata>=2022.1 in /home/xuwei/jupyterlab/venv/lib/python3.11/site-packages (from pandas->datasets>=2.0.0->lm-eval->autoawq) (2023.4)\n",
      "Building wheels for collected packages: lm-eval, rouge-score, sqlitedict\n",
      "  Building wheel for lm-eval (pyproject.toml) ... \u001b[?25ldone\n",
      "\u001b[?25h  Created wheel for lm-eval: filename=lm_eval-0.4.0-py3-none-any.whl size=994996 sha256=1107836b3652f54c3405f973337702afa86caa22d34cecef90b69b65d2c201fd\n",
      "  Stored in directory: /home/xuwei/.cache/pip/wheels/3e/c3/93/d483061728339e29c53246198799dc5f34e2efcddeb3572bdc\n",
      "  Building wheel for rouge-score (setup.py) ... \u001b[?25ldone\n",
      "\u001b[?25h  Created wheel for rouge-score: filename=rouge_score-0.1.2-py3-none-any.whl size=24933 sha256=25efa8a1b93ff0898090628a69fa4719b771395c14e2da023e44a1402b0290a3\n",
      "  Stored in directory: /home/xuwei/.cache/pip/wheels/60/d5/e5/b52538e7ff9eb08ac2617ee744fae8cc6cc3b60cafbd526d35\n",
      "  Building wheel for sqlitedict (setup.py) ... \u001b[?25ldone\n",
      "\u001b[?25h  Created wheel for sqlitedict: filename=sqlitedict-2.1.0-py3-none-any.whl size=16863 sha256=c454b65958b850da8ec43030285f1dd268fca0dcdfdc4137f2aa8bcba611d501\n",
      "  Stored in directory: /home/xuwei/.cache/pip/wheels/d3/a7/8e/2fa2dba77b2ee3bf4cbe39920c50a840a685fcf50d530058a9\n",
      "Successfully built lm-eval rouge-score sqlitedict\n",
      "Installing collected packages: texttable, sqlitedict, distlib, zstandard, virtualenv, triton, toml, termcolor, tcolorpy, tabulate, pyproject-api, pybind11, portalocker, pluggy, pathvalidate, ordered-set, numexpr, nltk, lxml, jsonlines, coverage, colorama, chardet, cachetools, blessings, absl-py, tqdm-multiprocess, tox, sacrebleu, rouge-score, mbstrdecoder, deepdiff, colour-runner, codecov, typepy, torch, rootpath, torchvision, inspecta, DataProperty, attributedict, tabledata, pytablewriter, lm-eval, autoawq\n",
      "  Attempting uninstall: triton\n",
      "    Found existing installation: triton 2.0.0\n",
      "    Uninstalling triton-2.0.0:\n",
      "      Successfully uninstalled triton-2.0.0\n",
      "  Attempting uninstall: torch\n",
      "    Found existing installation: torch 2.0.1\n",
      "    Uninstalling torch-2.0.1:\n",
      "      Successfully uninstalled torch-2.0.1\n",
      "Successfully installed DataProperty-1.0.1 absl-py-2.1.0 attributedict-0.3.0 autoawq-0.1.8 blessings-1.7 cachetools-5.3.2 chardet-5.2.0 codecov-2.1.13 colorama-0.4.6 colour-runner-0.1.1 coverage-7.4.0 deepdiff-6.7.1 distlib-0.3.8 inspecta-0.1.3 jsonlines-4.0.0 lm-eval-0.4.0 lxml-5.1.0 mbstrdecoder-1.1.3 nltk-3.8.1 numexpr-2.8.8 ordered-set-4.1.0 pathvalidate-3.2.0 pluggy-1.4.0 portalocker-2.8.2 pybind11-2.11.1 pyproject-api-1.6.1 pytablewriter-1.2.0 rootpath-0.1.1 rouge-score-0.1.2 sacrebleu-2.4.0 sqlitedict-2.1.0 tabledata-1.3.3 tabulate-0.9.0 tcolorpy-0.1.4 termcolor-2.4.0 texttable-1.7.0 toml-0.10.2 torch-2.1.2 torchvision-0.16.2 tox-4.12.1 tqdm-multiprocess-0.0.11 triton-2.1.0 typepy-1.3.2 virtualenv-20.25.0 zstandard-0.22.0\n",
      "\n",
      "\u001b[1m[\u001b[0m\u001b[34;49mnotice\u001b[0m\u001b[1;39;49m]\u001b[0m\u001b[39;49m A new release of pip is available: \u001b[0m\u001b[31;49m23.2.1\u001b[0m\u001b[39;49m -> \u001b[0m\u001b[32;49m23.3.2\u001b[0m\n",
      "\u001b[1m[\u001b[0m\u001b[34;49mnotice\u001b[0m\u001b[1;39;49m]\u001b[0m\u001b[39;49m To update, run: \u001b[0m\u001b[32;49mpip install --upgrade pip\u001b[0m\n"
     ]
    }
   ],
   "source": [
    "!pip list | grep transformers\n",
    "!pip install autoawq"
   ]
  },
  {
   "cell_type": "code",
   "execution_count": 1,
   "id": "6ccb8c4146a12f30",
   "metadata": {
    "collapsed": false,
    "jupyter": {
     "outputs_hidden": false
    }
   },
   "outputs": [
    {
     "data": {
      "application/vnd.jupyter.widget-view+json": {
       "model_id": "39234209010e45bf8f144792811a7876",
       "version_major": 2,
       "version_minor": 0
      },
      "text/plain": [
       "Fetching 12 files:   0%|          | 0/12 [00:00<?, ?it/s]"
      ]
     },
     "metadata": {},
     "output_type": "display_data"
    },
    {
     "data": {
      "application/vnd.jupyter.widget-view+json": {
       "model_id": "d92dde60754e487295ea779ca878a5ec",
       "version_major": 2,
       "version_minor": 0
      },
      "text/plain": [
       "Loading checkpoint shards:   0%|          | 0/2 [00:00<?, ?it/s]"
      ]
     },
     "metadata": {},
     "output_type": "display_data"
    }
   ],
   "source": [
    "from awq import AutoAWQForCausalLM\n",
    "from transformers import AutoTokenizer\n",
    "\n",
    "model_path = \"facebook/opt-6.7b\"\n",
    "quant_path = \"models/opt-6.7b-awq\"\n",
    "quant_config = {\"zero_point\": True, \"q_group_size\": 128, \"w_bit\": 4, \"version\": \"GEMM\"}\n",
    "\n",
    "# 加载模型\n",
    "model = AutoAWQForCausalLM.from_pretrained(model_path, device_map=\"cuda\")\n",
    "tokenizer = AutoTokenizer.from_pretrained(model_path, trust_remote_code=True)"
   ]
  },
  {
   "cell_type": "code",
   "execution_count": 2,
   "id": "4180bcbf-e0a0-4a80-b0a9-afb8506dd8eb",
   "metadata": {},
   "outputs": [
    {
     "name": "stderr",
     "output_type": "stream",
     "text": [
      "/home/xuwei/jupyterlab/venv/lib/python3.11/site-packages/huggingface_hub/repocard.py:105: UserWarning: Repo card metadata block was not found. Setting CardData to empty.\n",
      "  warnings.warn(\"Repo card metadata block was not found. Setting CardData to empty.\")\n",
      "AWQ: 100%|██████████| 32/32 [17:07<00:00, 32.12s/it]\n"
     ]
    }
   ],
   "source": [
    "# 量化模型\n",
    "model.quantize(tokenizer, quant_config=quant_config)"
   ]
  },
  {
   "cell_type": "code",
   "execution_count": 3,
   "id": "b52eee42-8951-4575-9702-d9caba9cdbe3",
   "metadata": {},
   "outputs": [
    {
     "data": {
      "text/plain": [
       "{'zero_point': True, 'q_group_size': 128, 'w_bit': 4, 'version': 'GEMM'}"
      ]
     },
     "execution_count": 3,
     "metadata": {},
     "output_type": "execute_result"
    }
   ],
   "source": [
    "quant_config"
   ]
  },
  {
   "cell_type": "code",
   "execution_count": 4,
   "id": "43690401-c391-4167-bf23-2eaeca912904",
   "metadata": {},
   "outputs": [],
   "source": [
    "from transformers import AwqConfig, AutoConfig\n",
    "\n",
    "# 修改配置文件以使其与transformers集成兼容\n",
    "quantization_config = AwqConfig(\n",
    "    bits=quant_config[\"w_bit\"],\n",
    "    group_size=quant_config[\"q_group_size\"],\n",
    "    zero_point=quant_config[\"zero_point\"],\n",
    "    version=quant_config[\"version\"].lower(),\n",
    ").to_dict()\n",
    "\n",
    "# 预训练的transformers模型存储在model属性中，我们需要传递一个字典\n",
    "model.model.config.quantization_config = quantization_config"
   ]
  },
  {
   "cell_type": "code",
   "execution_count": 5,
   "id": "9d7c7ea8-e9b7-4f1d-aca8-ecc26dde15b7",
   "metadata": {},
   "outputs": [
    {
     "name": "stderr",
     "output_type": "stream",
     "text": [
      "WARNING:root:`quant_config.json` is being deprecated in the future in favor of quantization_config in config.json.\n"
     ]
    },
    {
     "data": {
      "text/plain": [
       "('models/opt-6.7b-awq/tokenizer_config.json',\n",
       " 'models/opt-6.7b-awq/special_tokens_map.json',\n",
       " 'models/opt-6.7b-awq/vocab.json',\n",
       " 'models/opt-6.7b-awq/merges.txt',\n",
       " 'models/opt-6.7b-awq/added_tokens.json',\n",
       " 'models/opt-6.7b-awq/tokenizer.json')"
      ]
     },
     "execution_count": 5,
     "metadata": {},
     "output_type": "execute_result"
    }
   ],
   "source": [
    "# 保存模型权重\n",
    "model.save_quantized(quant_path)\n",
    "tokenizer.save_pretrained(quant_path)  # 保存分词器"
   ]
  },
  {
   "cell_type": "code",
   "execution_count": 4,
   "id": "644507e7-d8f5-4d80-a498-3b58fbc30122",
   "metadata": {},
   "outputs": [],
   "source": [
    "from transformers import AutoTokenizer, AutoModelForCausalLM\n",
    "quant_path = \"models/opt-6.7b-awq\"\n",
    "tokenizer = AutoTokenizer.from_pretrained(quant_path)\n",
    "model = AutoModelForCausalLM.from_pretrained(quant_path, device_map=\"cuda\").to(0)"
   ]
  },
  {
   "cell_type": "code",
   "execution_count": 5,
   "id": "d5e0be73-d53d-42a5-8a82-b350b24bfcce",
   "metadata": {},
   "outputs": [],
   "source": [
    "def generate_text(text):\n",
    "    inputs = tokenizer(text, return_tensors=\"pt\").to(0)\n",
    "\n",
    "    out = model.generate(**inputs, max_new_tokens=64)\n",
    "    return tokenizer.decode(out[0], skip_special_tokens=True)"
   ]
  },
  {
   "cell_type": "code",
   "execution_count": 1,
   "id": "13f7fb7f-2a0e-4bdd-814c-04a6a73fe7a1",
   "metadata": {},
   "outputs": [
    {
     "name": "stdout",
     "output_type": "stream",
     "text": [
      "Found existing installation: torch 2.1.2\n",
      "Uninstalling torch-2.1.2:\n",
      "  Successfully uninstalled torch-2.1.2\n",
      "Looking in indexes: https://download.pytorch.org/whl/cu118\n",
      "Collecting torch\n",
      "  Downloading https://download.pytorch.org/whl/cu118/torch-2.1.2%2Bcu118-cp311-cp311-linux_x86_64.whl (2325.9 MB)\n",
      "\u001b[2K     \u001b[90m━━━━━━━━━━━━━━━━━━━━━━━━━━━━━━━━━━━━━━━━\u001b[0m \u001b[32m2.3/2.3 GB\u001b[0m \u001b[31m657.2 kB/s\u001b[0m eta \u001b[36m0:00:00\u001b[0m:01\u001b[0m00:17\u001b[0mm\n",
      "\u001b[?25hRequirement already satisfied: torchvision in /home/xuwei/jupyterlab/venv/lib/python3.11/site-packages (0.16.2)\n",
      "Requirement already satisfied: torchaudio in /home/xuwei/jupyterlab/venv/lib/python3.11/site-packages (2.1.2+cu118)\n",
      "Requirement already satisfied: filelock in /home/xuwei/jupyterlab/venv/lib/python3.11/site-packages (from torch) (3.13.1)\n",
      "Requirement already satisfied: typing-extensions in /home/xuwei/jupyterlab/venv/lib/python3.11/site-packages (from torch) (4.9.0)\n",
      "Requirement already satisfied: sympy in /home/xuwei/jupyterlab/venv/lib/python3.11/site-packages (from torch) (1.12)\n",
      "Requirement already satisfied: networkx in /home/xuwei/jupyterlab/venv/lib/python3.11/site-packages (from torch) (3.2.1)\n",
      "Requirement already satisfied: jinja2 in /home/xuwei/jupyterlab/venv/lib/python3.11/site-packages (from torch) (3.1.2)\n",
      "Requirement already satisfied: fsspec in /home/xuwei/jupyterlab/venv/lib/python3.11/site-packages (from torch) (2023.10.0)\n",
      "Requirement already satisfied: triton==2.1.0 in /home/xuwei/jupyterlab/venv/lib/python3.11/site-packages (from torch) (2.1.0)\n",
      "Requirement already satisfied: numpy in /home/xuwei/jupyterlab/venv/lib/python3.11/site-packages (from torchvision) (1.26.3)\n",
      "Requirement already satisfied: requests in /home/xuwei/jupyterlab/venv/lib/python3.11/site-packages (from torchvision) (2.31.0)\n",
      "Requirement already satisfied: pillow!=8.3.*,>=5.3.0 in /home/xuwei/jupyterlab/venv/lib/python3.11/site-packages (from torchvision) (10.2.0)\n",
      "Requirement already satisfied: MarkupSafe>=2.0 in /home/xuwei/jupyterlab/venv/lib/python3.11/site-packages (from jinja2->torch) (2.1.3)\n",
      "Requirement already satisfied: charset-normalizer<4,>=2 in /home/xuwei/jupyterlab/venv/lib/python3.11/site-packages (from requests->torchvision) (3.3.2)\n",
      "Requirement already satisfied: idna<4,>=2.5 in /home/xuwei/jupyterlab/venv/lib/python3.11/site-packages (from requests->torchvision) (3.6)\n",
      "Requirement already satisfied: urllib3<3,>=1.21.1 in /home/xuwei/jupyterlab/venv/lib/python3.11/site-packages (from requests->torchvision) (2.1.0)\n",
      "Requirement already satisfied: certifi>=2017.4.17 in /home/xuwei/jupyterlab/venv/lib/python3.11/site-packages (from requests->torchvision) (2023.11.17)\n",
      "Requirement already satisfied: mpmath>=0.19 in /home/xuwei/jupyterlab/venv/lib/python3.11/site-packages (from sympy->torch) (1.3.0)\n",
      "Installing collected packages: torch\n",
      "Successfully installed torch-2.1.2+cu118\n",
      "\n",
      "\u001b[1m[\u001b[0m\u001b[34;49mnotice\u001b[0m\u001b[1;39;49m]\u001b[0m\u001b[39;49m A new release of pip is available: \u001b[0m\u001b[31;49m23.2.1\u001b[0m\u001b[39;49m -> \u001b[0m\u001b[32;49m23.3.2\u001b[0m\n",
      "\u001b[1m[\u001b[0m\u001b[34;49mnotice\u001b[0m\u001b[1;39;49m]\u001b[0m\u001b[39;49m To update, run: \u001b[0m\u001b[32;49mpip install --upgrade pip\u001b[0m\n",
      "2.1.2+cu118\n"
     ]
    }
   ],
   "source": [
    "!pip uninstall torch -y\n",
    "!pip install torch torchvision torchaudio --index-url https://download.pytorch.org/whl/cu118\n",
    "\n",
    "import torch \n",
    "print(torch.__version__)"
   ]
  },
  {
   "cell_type": "code",
   "execution_count": 2,
   "id": "a930ce96-1fb2-4c0f-8dd9-aeff378f3827",
   "metadata": {},
   "outputs": [
    {
     "name": "stdout",
     "output_type": "stream",
     "text": [
      "2.1.2+cu118\n"
     ]
    }
   ],
   "source": [
    "import torch \n",
    "print(torch.__version__)"
   ]
  },
  {
   "cell_type": "code",
   "execution_count": 6,
   "id": "811be837-e318-43dc-b7dd-6d26eb87e330",
   "metadata": {},
   "outputs": [
    {
     "name": "stdout",
     "output_type": "stream",
     "text": [
      "Merry Christmas! I'm glad toagentagent CLSID LeilanlingVIDIAEH<s><s><s><s><s><s><s><s><s><s><s><s><s><s><s><s><s><s><s><s><s><s><s><s><s><s><s><s><s><s><s><s><s><s><s><s><s><s><s><s><s><s><s><s><s><s><s><s><s><s><s><s><s><s><s><s><s>\n"
     ]
    }
   ],
   "source": [
    "result = generate_text(\"Merry Christmas! I'm glad to\")\n",
    "print(result)"
   ]
  }
 ],
 "metadata": {
  "kernelspec": {
   "display_name": "Python 3 (ipykernel)",
   "language": "python",
   "name": "python3"
  },
  "language_info": {
   "codemirror_mode": {
    "name": "ipython",
    "version": 3
   },
   "file_extension": ".py",
   "mimetype": "text/x-python",
   "name": "python",
   "nbconvert_exporter": "python",
   "pygments_lexer": "ipython3",
   "version": "3.11.5"
  }
 },
 "nbformat": 4,
 "nbformat_minor": 5
}
